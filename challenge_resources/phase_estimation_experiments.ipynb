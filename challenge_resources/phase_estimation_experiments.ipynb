{
 "cells": [
  {
   "cell_type": "code",
<<<<<<< HEAD
   "execution_count": 83,
   "id": "fb43f81b-7abd-4a44-b289-66f4c2f6aab2",
=======
   "execution_count": 1,
   "id": "fc9a2d3b-d1d3-4940-b918-f63e4e6eef08",
>>>>>>> main
   "metadata": {},
   "outputs": [],
   "source": [
    "import numpy as np\n",
    "np.random.seed(3407)\n",
    "\n",
    "from pytket.circuit import Circuit\n",
    "from pytket.circuit.display import render_circuit_jupyter\n",
    "from pytket.circuit import CircBox\n",
    "from pytket.circuit import QControlBox\n",
    "from pytket.passes import DecomposeBoxes\n",
    "from pytket.extensions.nexus import NexusBackend, QuantinuumConfig, Nexus\n",
    "from pytket.backends.backendresult import BackendResult\n",
    "import matplotlib.pyplot as plt\n",
    "from datetime import datetime\n",
    "\n",
    "from tqdm import tqdm\n",
    "import pandas as pd\n",
    "from itertools import product\n",
    "import multiprocessing"
   ]
  },
  {
   "cell_type": "code",
<<<<<<< HEAD
   "execution_count": 102,
=======
   "execution_count": 4,
>>>>>>> main
   "id": "d80731de-7c01-42bf-ba45-4c3eb51baf13",
   "metadata": {},
   "outputs": [
    {
     "name": "stdout",
     "output_type": "stream",
     "text": [
      "\n",
<<<<<<< HEAD
      "New project created: Phase Estimation Tutorial - 2024-02-04 14:28:02.213433\n",
      "\n",
      "Started using project with name: Phase Estimation Tutorial - 2024-02-04 14:28:02.213433\n"
=======
      "New project created: Phase Estimation Tutorial - 2024-02-04 04:19:02.279992\n",
      "\n",
      "Started using project with name: Phase Estimation Tutorial - 2024-02-04 04:19:02.279992\n"
>>>>>>> main
     ]
    }
   ],
   "source": [
    "phase_est_project = Nexus().new_project(f\"Phase Estimation Tutorial - {datetime.now()}\")\n",
    "\n",
    "configuration = QuantinuumConfig(device_name=\"H1-1LE\", user_group=\"iQuHACK_2024\")\n",
    "remote_backend = NexusBackend(\n",
    "    backend_config= configuration, \n",
    "    project= phase_est_project\n",
    ")"
   ]
  },
  {
   "cell_type": "code",
   "execution_count": 85,
   "id": "2430a228-eec0-42b7-8bef-d39b24d4fccd",
   "metadata": {},
   "outputs": [],
   "source": [
    "from pytket.extensions.quantinuum import QuantinuumBackend, QuantinuumAPIOffline\n",
    "api_offline = QuantinuumAPIOffline()\n",
    "\n",
    "backend = QuantinuumBackend(device_name=\"H1-1LE\", api_handler = api_offline)"
   ]
  },
  {
   "cell_type": "markdown",
   "id": "6c508078-c0cf-4714-8614-c856e9c92676",
   "metadata": {},
   "source": [
    "# Quantum Phase Estimation: Evaluating Estimation Error of Variants of QPE\n",
    "\n",
    "Our goal is to compare the error of the following Quantum Phase Estimation (QPE) algorithms:\n",
    "1. Standard QPE algorithm\n",
    "2. Iterative QPE\n",
    "3. QPE with Efficient Bayesian Phase Estimation\n",
    "\n",
    "We use the Quantinuum Nexus platform to implement and simulate each circuit and evaluate the measurement error while varying the following parameters:\n",
    "\n",
    "- Number of qubits\n",
    "- Number of shots to get the probability distribution of eigenvalues"
   ]
  },
  {
   "cell_type": "markdown",
   "id": "3ded148f-5c81-4850-b16f-fea25e2cc4f5",
   "metadata": {},
   "source": [
    "## 1. Standard QPE Algorithm"
   ]
  },
  {
   "cell_type": "markdown",
   "id": "715537b4-fc6a-4c67-b2d0-de5c9e141c3d",
   "metadata": {},
   "source": [
    "We start off with the provided standard QPE algorithm and analyze the phase estimation error when estimating 1,000 phases sampled uniformly from $0 <= \\theta <= 1$. For now, we use the $\\text{U1}$ unitary gate and thus the $|1\\rangle$ trivial eigenstate demonstrated in the handout code."
   ]
  },
  {
   "cell_type": "markdown",
   "id": "6ca1312d-aeb3-43f4-b6c2-479d5a5f9fd6",
   "metadata": {},
   "source": [
    "### 1.1 Hyperparameter Setup"
   ]
  },
  {
   "cell_type": "markdown",
   "id": "7e878593-44ed-46ed-a424-c756537d020f",
   "metadata": {},
   "source": [
    "For each of our evaluations (holding the number of qubits and shots constant), we want to sample the error of the quantum phase estimation algorithm along a variety of $\\theta$'s."
   ]
  },
  {
   "cell_type": "code",
<<<<<<< HEAD
   "execution_count": 112,
=======
   "execution_count": 77,
>>>>>>> main
   "id": "48cdae5c-3a0d-4b29-b9f8-6ad344196a62",
   "metadata": {},
   "outputs": [],
   "source": [
<<<<<<< HEAD
    "n_theta = 5\n",
=======
    "n_theta = 10\n",
>>>>>>> main
    "theta_list = [x.item() for x in list(np.random.random_sample((n_theta,)))]"
   ]
  },
  {
   "cell_type": "code",
<<<<<<< HEAD
   "execution_count": 113,
=======
   "execution_count": 43,
>>>>>>> main
   "id": "2ddd940b-bf7b-474d-a045-4dfe15694352",
   "metadata": {},
   "outputs": [],
   "source": [
<<<<<<< HEAD
    "n_qubits_list = list(range(4, 12, 2)) # number of qubits to test\n",
=======
    "n_qubits_list = list(range(2, 12, 2)) # number of qubits to test\n",
>>>>>>> main
    "n_shots_list = [x.item() for x in np.linspace(15, 1500, 10).astype(int)]"
   ]
  },
  {
   "cell_type": "code",
   "execution_count": null,
   "id": "3c977f8e-7daf-4737-9b5d-46c69e02dcd0",
   "metadata": {},
   "outputs": [],
   "source": []
  },
  {
   "cell_type": "markdown",
   "id": "d53252c3-4d1d-471c-bd0b-33d81824e355",
   "metadata": {},
   "source": [
    "### 1.2 Circuit Setup\n",
    "\n",
    "Sourced from handout notebook."
   ]
  },
  {
   "cell_type": "code",
   "execution_count": 7,
   "id": "3aab07ee-40a1-4220-892d-69afc5b2a5b9",
   "metadata": {
    "editable": true,
    "slideshow": {
     "slide_type": ""
    },
    "tags": []
   },
   "outputs": [],
   "source": [
    "def build_qft_circuit(n_qubits: int) -> Circuit:\n",
    "    circ = Circuit(n_qubits, name=\"QFT\")\n",
    "    for i in range(n_qubits):\n",
    "        circ.H(i)\n",
    "        for j in range(i + 1, n_qubits):\n",
    "            circ.CU1(1 / 2 ** (j - i), j, i)\n",
    "    for k in range(0, n_qubits // 2):\n",
    "        circ.SWAP(k, n_qubits - k - 1)\n",
    "    return circ\n",
    "\n",
    "def build_phase_estimation_circuit(\n",
    "    n_measurement_qubits: int, state_prep_circuit: Circuit, unitary_circuit: Circuit\n",
    ") -> Circuit:\n",
    "    # Define a Circuit with a measurement and prep register\n",
    "    qpe_circ: Circuit = Circuit()\n",
    "    n_state_prep_qubits = state_prep_circuit.n_qubits\n",
    "    measurement_register = qpe_circ.add_q_register(\"m\", n_measurement_qubits)\n",
    "    state_prep_register = qpe_circ.add_q_register(\"p\", n_state_prep_qubits)\n",
    "    qpe_circ.add_circuit(state_prep_circuit, list(state_prep_register))\n",
    "\n",
    "    # Create a controlled unitary with a single control qubit\n",
    "    unitary_circuit.name = \"U\"\n",
    "    controlled_u_gate = QControlBox(CircBox(unitary_circuit), 1)\n",
    "\n",
    "    # Add Hadamard gates to every qubit in the measurement register\n",
    "    for m_qubit in measurement_register:\n",
    "        qpe_circ.H(m_qubit)\n",
    "\n",
    "    # Add all (2**n_measurement_qubits - 1) of the controlled unitaries sequentially\n",
    "    for m_qubit in range(n_measurement_qubits):\n",
    "        control_index = n_measurement_qubits - m_qubit - 1\n",
    "        control_qubit = [measurement_register[control_index]]\n",
    "        for _ in range(2**m_qubit):\n",
    "            qpe_circ.add_qcontrolbox(\n",
    "                controlled_u_gate, control_qubit + list(state_prep_register)\n",
    "            )\n",
    "\n",
    "    # Finally, append the inverse qft and measure the qubits\n",
    "    qft_box = CircBox(build_qft_circuit(n_measurement_qubits))\n",
    "    inverse_qft_box = qft_box.dagger\n",
    "    qpe_circ.add_circbox(inverse_qft_box, list(measurement_register))\n",
    "    qpe_circ.measure_register(measurement_register, \"c\")\n",
    "\n",
    "    DecomposeBoxes().apply(qpe_circ)\n",
    "    \n",
    "    return qpe_circ\n",
    "\n",
    "def plot_qpe_results(\n",
    "    sim_result: BackendResult,\n",
    "    n_strings: int = 4,\n",
    "    dark_mode: bool = False,\n",
    "    y_limit: int = 1000,\n",
    ") -> None:\n",
    "    \"\"\"\n",
    "    Plots results in a barchart given a BackendResult. the number of stings displayed\n",
    "    can be specified with the n_strings argument.\n",
    "    \"\"\"\n",
    "    counts_dict = sim_result.get_counts()\n",
    "    sorted_shots = counts_dict.most_common()\n",
    "    n_most_common_strings = sorted_shots[:n_strings]\n",
    "    x_axis_values = [str(entry[0]) for entry in n_most_common_strings]  # basis states\n",
    "    y_axis_values = [entry[1] for entry in n_most_common_strings]  # counts\n",
    "    if dark_mode:\n",
    "        plt.style.use(\"dark_background\")\n",
    "    fig = plt.figure()\n",
    "    ax = fig.add_axes((0, 0, 0.75, 0.5))\n",
    "    color_list = [\"orange\"] * (len(x_axis_values))\n",
    "    ax.bar(\n",
    "        x=x_axis_values,\n",
    "        height=y_axis_values,\n",
    "        color=color_list,\n",
    "    )\n",
    "    ax.set_title(label=\"Results\")\n",
    "    plt.ylim([0, y_limit])\n",
    "    plt.xlabel(\"Basis State\")\n",
    "    plt.ylabel(\"Number of Shots\")\n",
    "    plt.show()\n",
    "\n",
    "def single_phase_from_backendresult(result: BackendResult) -> float:\n",
    "    # Extract most common measurement outcome\n",
    "    basis_state = result.get_counts().most_common()[0][0]\n",
    "    bitstring = \"\".join([str(bit) for bit in basis_state])\n",
    "    integer_j = int(bitstring, 2)\n",
    "\n",
    "    # Calculate theta estimate\n",
    "    return integer_j / (2 ** len(bitstring))"
   ]
  },
  {
   "cell_type": "code",
   "execution_count": 8,
   "id": "f12bd567-41a5-49c9-8bc8-0cef47af8aca",
   "metadata": {},
   "outputs": [
    {
     "data": {
      "text/html": [
       "\n",
       "\n",
       "\n",
       "\n",
       "\n",
       "\n",
       "<div style=\"resize: vertical; overflow: auto; height: 400px; display: block\">\n",
       "    <iframe srcdoc=\"\n",
       "&lt;!DOCTYPE html&gt;\n",
       "&lt;html lang=&#34;en&#34;&gt;\n",
       "&lt;head&gt;\n",
       "    &lt;meta charset=&#34;UTF-8&#34;&gt;\n",
       "    &lt;!-- Download Vue 3--&gt;\n",
       "&lt;script type=&#34;application/javascript&#34; src=&#34;https://cdn.jsdelivr.net/npm/vue@3&#34;&gt;&lt;/script&gt;\n",
       "&lt;!-- Download Circuit Renderer with styles --&gt;\n",
       "&lt;script type=&#34;application/javascript&#34; src=&#34;https://unpkg.com/pytket-circuit-renderer@0.7/dist/pytket-circuit-renderer.umd.js&#34;&gt;&lt;/script&gt;\n",
       "&lt;link rel=&#34;stylesheet&#34; href=&#34;https://unpkg.com/pytket-circuit-renderer@0.7/dist/pytket-circuit-renderer.css&#34;&gt;\n",
       "&lt;/head&gt;\n",
       "&lt;body&gt;\n",
       "\n",
       "\n",
       "\n",
       "    &lt;div id=&#34;circuit-display-vue-container-eab52bfd-662b-47ba-be5c-367bc03493b3&#34; class=&#34;pytket-circuit-display-container&#34;&gt;\n",
       "        &lt;div style=&#34;display: none&#34;&gt;\n",
       "            &lt;div id=&#34;circuit-json-to-display&#34;&gt;{&#34;bits&#34;: [[&#34;c&#34;, [0]], [&#34;c&#34;, [1]], [&#34;c&#34;, [2]], [&#34;c&#34;, [3]]], &#34;commands&#34;: [{&#34;args&#34;: [[&#34;m&#34;, [0]]], &#34;op&#34;: {&#34;type&#34;: &#34;H&#34;}}, {&#34;args&#34;: [[&#34;m&#34;, [1]]], &#34;op&#34;: {&#34;type&#34;: &#34;H&#34;}}, {&#34;args&#34;: [[&#34;m&#34;, [2]]], &#34;op&#34;: {&#34;type&#34;: &#34;H&#34;}}, {&#34;args&#34;: [[&#34;m&#34;, [3]]], &#34;op&#34;: {&#34;type&#34;: &#34;H&#34;}}, {&#34;args&#34;: [[&#34;p&#34;, [0]]], &#34;op&#34;: {&#34;type&#34;: &#34;X&#34;}}, {&#34;args&#34;: [[&#34;m&#34;, [3]], [&#34;p&#34;, [0]]], &#34;op&#34;: {&#34;params&#34;: [&#34;0.0&#34;, &#34;0.23&#34;, &#34;0.5&#34;], &#34;type&#34;: &#34;CU3&#34;}}, {&#34;args&#34;: [[&#34;m&#34;, [2]], [&#34;p&#34;, [0]]], &#34;op&#34;: {&#34;params&#34;: [&#34;0.0&#34;, &#34;0.23&#34;, &#34;0.5&#34;], &#34;type&#34;: &#34;CU3&#34;}}, {&#34;args&#34;: [[&#34;m&#34;, [2]], [&#34;p&#34;, [0]]], &#34;op&#34;: {&#34;params&#34;: [&#34;0.0&#34;, &#34;0.23&#34;, &#34;0.5&#34;], &#34;type&#34;: &#34;CU3&#34;}}, {&#34;args&#34;: [[&#34;m&#34;, [1]], [&#34;p&#34;, [0]]], &#34;op&#34;: {&#34;params&#34;: [&#34;0.0&#34;, &#34;0.23&#34;, &#34;0.5&#34;], &#34;type&#34;: &#34;CU3&#34;}}, {&#34;args&#34;: [[&#34;m&#34;, [1]], [&#34;p&#34;, [0]]], &#34;op&#34;: {&#34;params&#34;: [&#34;0.0&#34;, &#34;0.23&#34;, &#34;0.5&#34;], &#34;type&#34;: &#34;CU3&#34;}}, {&#34;args&#34;: [[&#34;m&#34;, [1]], [&#34;p&#34;, [0]]], &#34;op&#34;: {&#34;params&#34;: [&#34;0.0&#34;, &#34;0.23&#34;, &#34;0.5&#34;], &#34;type&#34;: &#34;CU3&#34;}}, {&#34;args&#34;: [[&#34;m&#34;, [1]], [&#34;p&#34;, [0]]], &#34;op&#34;: {&#34;params&#34;: [&#34;0.0&#34;, &#34;0.23&#34;, &#34;0.5&#34;], &#34;type&#34;: &#34;CU3&#34;}}, {&#34;args&#34;: [[&#34;m&#34;, [0]], [&#34;p&#34;, [0]]], &#34;op&#34;: {&#34;params&#34;: [&#34;0.0&#34;, &#34;0.23&#34;, &#34;0.5&#34;], &#34;type&#34;: &#34;CU3&#34;}}, {&#34;args&#34;: [[&#34;m&#34;, [1]], [&#34;m&#34;, [2]]], &#34;op&#34;: {&#34;type&#34;: &#34;SWAP&#34;}}, {&#34;args&#34;: [[&#34;m&#34;, [0]], [&#34;p&#34;, [0]]], &#34;op&#34;: {&#34;params&#34;: [&#34;0.0&#34;, &#34;0.23&#34;, &#34;0.5&#34;], &#34;type&#34;: &#34;CU3&#34;}}, {&#34;args&#34;: [[&#34;m&#34;, [0]], [&#34;p&#34;, [0]]], &#34;op&#34;: {&#34;params&#34;: [&#34;0.0&#34;, &#34;0.23&#34;, &#34;0.5&#34;], &#34;type&#34;: &#34;CU3&#34;}}, {&#34;args&#34;: [[&#34;m&#34;, [0]], [&#34;p&#34;, [0]]], &#34;op&#34;: {&#34;params&#34;: [&#34;0.0&#34;, &#34;0.23&#34;, &#34;0.5&#34;], &#34;type&#34;: &#34;CU3&#34;}}, {&#34;args&#34;: [[&#34;m&#34;, [0]], [&#34;p&#34;, [0]]], &#34;op&#34;: {&#34;params&#34;: [&#34;0.0&#34;, &#34;0.23&#34;, &#34;0.5&#34;], &#34;type&#34;: &#34;CU3&#34;}}, {&#34;args&#34;: [[&#34;m&#34;, [0]], [&#34;p&#34;, [0]]], &#34;op&#34;: {&#34;params&#34;: [&#34;0.0&#34;, &#34;0.23&#34;, &#34;0.5&#34;], &#34;type&#34;: &#34;CU3&#34;}}, {&#34;args&#34;: [[&#34;m&#34;, [0]], [&#34;p&#34;, [0]]], &#34;op&#34;: {&#34;params&#34;: [&#34;0.0&#34;, &#34;0.23&#34;, &#34;0.5&#34;], &#34;type&#34;: &#34;CU3&#34;}}, {&#34;args&#34;: [[&#34;m&#34;, [0]], [&#34;p&#34;, [0]]], &#34;op&#34;: {&#34;params&#34;: [&#34;0.0&#34;, &#34;0.23&#34;, &#34;0.5&#34;], &#34;type&#34;: &#34;CU3&#34;}}, {&#34;args&#34;: [[&#34;m&#34;, [0]], [&#34;m&#34;, [3]]], &#34;op&#34;: {&#34;type&#34;: &#34;SWAP&#34;}}, {&#34;args&#34;: [[&#34;m&#34;, [3]]], &#34;op&#34;: {&#34;type&#34;: &#34;H&#34;}}, {&#34;args&#34;: [[&#34;m&#34;, [3]], [&#34;m&#34;, [2]]], &#34;op&#34;: {&#34;params&#34;: [&#34;-0.5&#34;], &#34;type&#34;: &#34;CU1&#34;}}, {&#34;args&#34;: [[&#34;m&#34;, [3]], [&#34;m&#34;, [1]]], &#34;op&#34;: {&#34;params&#34;: [&#34;-0.25&#34;], &#34;type&#34;: &#34;CU1&#34;}}, {&#34;args&#34;: [[&#34;m&#34;, [2]]], &#34;op&#34;: {&#34;type&#34;: &#34;H&#34;}}, {&#34;args&#34;: [[&#34;m&#34;, [3]], [&#34;m&#34;, [0]]], &#34;op&#34;: {&#34;params&#34;: [&#34;-0.125&#34;], &#34;type&#34;: &#34;CU1&#34;}}, {&#34;args&#34;: [[&#34;m&#34;, [2]], [&#34;m&#34;, [1]]], &#34;op&#34;: {&#34;params&#34;: [&#34;-0.5&#34;], &#34;type&#34;: &#34;CU1&#34;}}, {&#34;args&#34;: [[&#34;m&#34;, [3]], [&#34;c&#34;, [3]]], &#34;op&#34;: {&#34;type&#34;: &#34;Measure&#34;}}, {&#34;args&#34;: [[&#34;m&#34;, [2]], [&#34;m&#34;, [0]]], &#34;op&#34;: {&#34;params&#34;: [&#34;-0.25&#34;], &#34;type&#34;: &#34;CU1&#34;}}, {&#34;args&#34;: [[&#34;m&#34;, [1]]], &#34;op&#34;: {&#34;type&#34;: &#34;H&#34;}}, {&#34;args&#34;: [[&#34;m&#34;, [2]], [&#34;c&#34;, [2]]], &#34;op&#34;: {&#34;type&#34;: &#34;Measure&#34;}}, {&#34;args&#34;: [[&#34;m&#34;, [1]], [&#34;m&#34;, [0]]], &#34;op&#34;: {&#34;params&#34;: [&#34;-0.5&#34;], &#34;type&#34;: &#34;CU1&#34;}}, {&#34;args&#34;: [[&#34;m&#34;, [1]], [&#34;c&#34;, [1]]], &#34;op&#34;: {&#34;type&#34;: &#34;Measure&#34;}}, {&#34;args&#34;: [[&#34;m&#34;, [0]]], &#34;op&#34;: {&#34;type&#34;: &#34;H&#34;}}, {&#34;args&#34;: [[&#34;m&#34;, [0]], [&#34;c&#34;, [0]]], &#34;op&#34;: {&#34;type&#34;: &#34;Measure&#34;}}], &#34;created_qubits&#34;: [], &#34;discarded_qubits&#34;: [], &#34;implicit_permutation&#34;: [[[&#34;m&#34;, [0]], [&#34;m&#34;, [0]]], [[&#34;m&#34;, [1]], [&#34;m&#34;, [1]]], [[&#34;m&#34;, [2]], [&#34;m&#34;, [2]]], [[&#34;m&#34;, [3]], [&#34;m&#34;, [3]]], [[&#34;p&#34;, [0]], [&#34;p&#34;, [0]]]], &#34;phase&#34;: &#34;0.0&#34;, &#34;qubits&#34;: [[&#34;m&#34;, [0]], [&#34;m&#34;, [1]], [&#34;m&#34;, [2]], [&#34;m&#34;, [3]], [&#34;p&#34;, [0]]]}&lt;/div&gt;\n",
       "        &lt;/div&gt;\n",
       "        &lt;circuit-display-container\n",
       "                :circuit-element-str=&#34;&#39;#circuit-json-to-display&#39;&#34;\n",
       "                :init-render-options=&#34;initRenderOptions&#34;\n",
       "        &gt;&lt;/circuit-display-container&gt;\n",
       "    &lt;/div&gt;\n",
       "    &lt;script type=&#34;application/javascript&#34;&gt;\n",
       "      const circuitRendererUid = &#34;eab52bfd-662b-47ba-be5c-367bc03493b3&#34;;\n",
       "      const displayOptions = JSON.parse(&#39;{}&#39;);\n",
       "\n",
       "      // Script to initialise the circuit renderer app\n",
       "\n",
       "const { createApp } = Vue;\n",
       "const circuitDisplayContainer = window[&#34;pytket-circuit-renderer&#34;].default;\n",
       "// Init variables to be shared between circuit display instances\n",
       "if (typeof window.pytketCircuitDisplays === &#34;undefined&#34;) {\n",
       "    window.pytketCircuitDisplays = {};\n",
       "}\n",
       "// Create the root Vue component\n",
       "const app = createApp({\n",
       "    delimiters: [&#39;[[#&#39;, &#39;#]]&#39;],\n",
       "    components: { circuitDisplayContainer },\n",
       "    data () {\n",
       "      return {\n",
       "        initRenderOptions: displayOptions,\n",
       "      }\n",
       "    }\n",
       "})\n",
       "app.config.unwrapInjectedRef = true;\n",
       "app.mount(&#34;#circuit-display-vue-container-&#34;+circuitRendererUid);\n",
       "window.pytketCircuitDisplays[circuitRendererUid] = app;\n",
       "    &lt;/script&gt;\n",
       "\n",
       "\n",
       "\n",
       "&lt;/body&gt;\n",
       "&lt;/html&gt;\n",
       "\"\n",
       "            width=\"100%\" height=\"100%\"\n",
       "            style=\"border: none; outline: none; overflow: auto\"></iframe>\n",
       "</div>\n",
       "\n"
      ],
      "text/plain": [
       "<IPython.core.display.HTML object>"
      ]
     },
     "metadata": {},
     "output_type": "display_data"
    }
   ],
   "source": [
    "prep_circuit = Circuit(1).X(0)  # prepare the |1> eigenstate of U1\n",
    "\n",
    "input_angle_example = 0.73\n",
    "\n",
    "unitary_circuit = Circuit(1).U1(input_angle_example, 0)  # Base unitary for controlled U ops\n",
    "qpe_circ_trivial = build_phase_estimation_circuit(\n",
    "    4, state_prep_circuit=prep_circuit, unitary_circuit=unitary_circuit\n",
    ")\n",
    "render_circuit_jupyter(qpe_circ_trivial)"
   ]
  },
  {
   "cell_type": "code",
   "execution_count": 9,
   "id": "36877c12-e044-499d-8cd8-3e0ec55d0904",
   "metadata": {},
   "outputs": [],
   "source": [
    "n_shots = 1000\n",
    "compiled_circ = backend.get_compiled_circuit(qpe_circ_trivial)\n",
    "result = backend.run_circuit(compiled_circ, n_shots)"
   ]
  },
  {
   "cell_type": "code",
   "execution_count": 10,
   "id": "40e3e27e-5aa9-44bf-955b-cf74cefbb349",
   "metadata": {},
   "outputs": [
    {
     "data": {
      "image/png": "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",
      "text/plain": [
       "<Figure size 640x480 with 1 Axes>"
      ]
     },
     "metadata": {},
     "output_type": "display_data"
    }
   ],
   "source": [
    "plot_qpe_results(result, y_limit=int(1.2 * n_shots))"
   ]
  },
  {
   "cell_type": "code",
   "execution_count": 11,
   "id": "18787fab-0545-4191-832f-370882f24cf3",
   "metadata": {},
   "outputs": [
    {
     "name": "stdout",
     "output_type": "stream",
     "text": [
      "theta = 0.375 with error 0.02\n"
     ]
    }
   ],
   "source": [
    "theta = single_phase_from_backendresult(result)\n",
    "error = round(abs(input_angle_example - (2 * theta)), 3)\n",
    "print(\"theta =\", theta, \"with error\", error)"
   ]
  },
  {
   "cell_type": "markdown",
   "id": "4fec4424-7b57-4ebf-8afd-d9b3115bf6fd",
   "metadata": {},
   "source": [
    "### 1.3 Experimental Harness\n",
    "\n",
    "An experimental harness for, given an input angle, number of qubits, and number of shots, generate the error of the measurement."
   ]
  },
  {
   "cell_type": "code",
<<<<<<< HEAD
   "execution_count": null,
=======
   "execution_count": 49,
>>>>>>> main
   "id": "ad53d380-441b-4028-bea4-912340b0b71c",
   "metadata": {
    "editable": true,
    "slideshow": {
     "slide_type": ""
    },
    "tags": []
   },
   "outputs": [],
   "source": [
    "# get circuit with phase input_angle\n",
    "def get_qpe_circuit(input_angle: float, n_qubits: int, show_circuit: bool = False):\n",
    "    prep_circuit = Circuit(1).X(0)\n",
    "    unitary_circuit = Circuit(1).U1(input_angle, 0)  # Base unitary for controlled U ops\n",
    "    qpe_circ_trivial = build_phase_estimation_circuit(\n",
    "        n_qubits, state_prep_circuit=prep_circuit, unitary_circuit=unitary_circuit\n",
    "    )\n",
    "\n",
    "    if show_circuit:\n",
    "        render_circuit_jupyter(qpe_circ_trivial)\n",
    "\n",
    "    return qpe_circ_trivial\n",
    "\n",
    "# queue compilation and processing jobs in backend for series of thetas and n_shots\n",
    "def qpe_shots_experiment(n_shots_list, theta_list):\n",
    "    circuits = [get_qpe_circuit(theta, 4) for theta in theta_list]\n",
    "    compiled_circuits = [backend.get_compiled_circuit(circuit) for circuit in tqdm(circuits, position=0, leave=True)]\n",
    "    results = []\n",
    "    for n_shots in tqdm(n_shots_list, position=0, leave=True):\n",
    "        res = backend.process_circuits(compiled_circuits, n_shots = n_shots)\n",
    "        results += [(n_shots, res_) for res_ in res]\n",
    "    return results\n",
    "\n",
    "def qpe_qubits_experiment(n_qubits, theta_list):\n",
    "    params = list(product(theta_list, n_qubits))\n",
    "    circuits = [get_qpe_circuit(*p) for p in params]\n",
    "    compiled_circuits = [backend.get_compiled_circuits(circuits[10*n:10*n+10]) for n in tqdm(range(1, int(len(params)/10)), position=0, leave=True)]#  for circuit in tqdm(circuits, position=0, leave=True)]\n",
    "    compiled_circuits = [item for row in compiled_circuits for item in row]\n",
    "    res = zip(n_qubits * len(theta_list), backend.process_circuits(compiled_circuits, n_shots = n_shots))\n",
    "    return res\n",
    "\n",
    "def get_result_theta_error(handle):\n",
    "    if \"COMPLETED\" in str(backend.circuit_status(handle).status):\n",
    "        try:\n",
<<<<<<< HEAD
    "            result = backend.get_result(handle, timeout=1)\n",
    "            theta = single_phase_from_backendresult(result)\n",
    "            error = abs(input_angle_example - (2 * theta))\n",
    "            return theta, error\n",
    "        except Exception as e:\n",
    "            return None\n",
    "    else:\n",
    "        return None"
   ]
  },
  {
   "cell_type": "markdown",
   "id": "1cba5d82-aa39-48fb-84f4-5f59c5ce5ae1",
   "metadata": {},
   "source": [
    "### 1.4 Varying Number of Shots\n",
    "\n",
    "Varying the number of shots from 100 to 5000, keeping `n_qubits = 4`."
   ]
  },
  {
   "cell_type": "code",
   "execution_count": 13,
   "id": "2472f8ae-578c-43cf-a166-cf3daf9821ba",
   "metadata": {},
   "outputs": [],
   "source": [
    "# from pytket.extensions.quantinuum import QuantinuumBackend, QuantinuumAPIOffline\n",
    "# api_offline = QuantinuumAPIOffline()\n",
    "\n",
    "# backend = QuantinuumBackend(device_name=\"H1-1LE\", api_handler = api_offline)"
   ]
  },
  {
   "cell_type": "code",
   "execution_count": 48,
   "id": "f8f2285c-47e5-4877-bced-5bfde0807dad",
   "metadata": {},
   "outputs": [
    {
     "name": "stderr",
     "output_type": "stream",
     "text": [
      "100%|██████████| 10/10 [00:59<00:00,  5.91s/it]\n",
      "100%|██████████| 10/10 [00:05<00:00,  1.72it/s]\n"
     ]
    }
   ],
   "source": [
    "qpe_shots_results = qpe_shots_experiment(n_shots_list, theta_list)"
   ]
  },
  {
   "cell_type": "code",
   "execution_count": 59,
   "id": "22acb2af-2f66-4cfb-8fa3-8adabee8d480",
   "metadata": {
    "editable": true,
    "slideshow": {
     "slide_type": ""
    },
    "tags": []
   },
   "outputs": [
    {
     "name": "stderr",
     "output_type": "stream",
     "text": [
      "100%|██████████| 100/100 [00:05<00:00, 18.36it/s]\n"
     ]
    }
   ],
   "source": [
    "avail_results = []\n",
    "for shots, res in tqdm(qpe_shots_results, position=0, leave=True):\n",
    "    result = get_result_theta_error(res)\n",
    "    if result != None:\n",
    "        avail_results.append((shots, result))\n",
    "# pd.DataFrame(avail_results, columns=[\"nshots\", \"error\"]).dropna().groupby(\"nshots\").agg([\"mean\", \"std\"])"
   ]
  },
  {
   "cell_type": "code",
   "execution_count": 62,
   "id": "a12237e1-42a0-42ec-a945-fbb062fd3689",
   "metadata": {},
   "outputs": [
    {
     "data": {
      "text/plain": [
       "0     0.1875\n",
       "1     0.3750\n",
       "2     0.0625\n",
       "3     0.4375\n",
       "4     0.3125\n",
       "       ...  \n",
       "95    0.4375\n",
       "96    0.3750\n",
       "97    0.5000\n",
       "98    0.0625\n",
       "99    0.5000\n",
       "Name: theta, Length: 100, dtype: float64"
      ]
     },
     "execution_count": 62,
     "metadata": {},
     "output_type": "execute_result"
    }
   ],
   "source": [
    "df[\"theta\"]"
   ]
  },
  {
   "cell_type": "code",
   "execution_count": 74,
   "id": "28457b72-ca56-427b-8bcd-18150819de44",
   "metadata": {},
   "outputs": [
    {
     "data": {
      "text/plain": [
       "<Axes: xlabel='nshots'>"
      ]
     },
     "execution_count": 74,
     "metadata": {},
     "output_type": "execute_result"
    },
    {
     "data": {
      "image/png": "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",
      "text/plain": [
       "<Figure size 640x480 with 1 Axes>"
      ]
     },
     "metadata": {},
     "output_type": "display_data"
    }
   ],
   "source": [
    "# df = pd.DataFrame([(nshots, theta, error) for nshots, (theta, error) in avail_results], columns=[\"nshots\", \"theta\", \"error\"])\n",
    "df = pd.read_pickle(\"/home/jovyan/2024_Quantinuum/challenge_resources/qpe_nshots_2.pkl\")\n",
    "df.groupby(\"nshots\").agg([\"mean\", \"std\"])[\"error\"].plot()\n",
    "# df.groupby(\"theta\").mean()[\"error\"].plot()\n",
    "# df.to_pickle(\"/home/jovyan/2024_Quantinuum/challenge_resources/qpe_nshots_2.pkl\")"
   ]
  },
  {
   "cell_type": "markdown",
   "id": "b8e0451b-07b6-435e-93b5-77177c38d752",
   "metadata": {},
   "source": [
    "### 1.5 Varying Number of Qubits"
   ]
  },
  {
   "cell_type": "code",
   "execution_count": null,
   "id": "551e716f-e142-40a4-98b7-a14fcbaa69f1",
   "metadata": {
    "scrolled": true
   },
   "outputs": [],
   "source": [
    "qpe_qubits_results = qpe_qubits_experiment(n_qubits_list, theta_list)\n",
    "qpe_qubits_results = list(qpe_qubits_results)"
   ]
  },
  {
   "cell_type": "code",
   "execution_count": 69,
   "id": "f51a4587-ae94-46fc-bf22-2023adf91357",
   "metadata": {},
   "outputs": [
    {
     "name": "stderr",
     "output_type": "stream",
     "text": [
      "100%|██████████| 40/40 [00:07<00:00,  5.46it/s]\n"
     ]
    }
   ],
   "source": [
    "avail_results = []\n",
    "for qubits, res in tqdm(qpe_qubits_results, position=0, leave=True):\n",
    "    result = get_result_theta_error(res)\n",
    "    if result != None:\n",
    "        avail_results.append((qubits, result))\n",
    "# pd.DataFrame(avail_results, columns=[\"nshots\", \"error\"]).dropna().groupby(\"nshots\").agg([\"mean\", \"std\"])"
   ]
  },
  {
   "cell_type": "code",
   "execution_count": 76,
   "id": "2a176550-7aa0-42cb-afb9-d85deb0a2962",
   "metadata": {},
   "outputs": [
    {
     "data": {
      "text/plain": [
       "<Axes: xlabel='nqubits'>"
      ]
     },
     "execution_count": 76,
     "metadata": {},
     "output_type": "execute_result"
    },
    {
     "data": {
      "image/png": "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",
      "text/plain": [
       "<Figure size 640x480 with 1 Axes>"
      ]
     },
     "metadata": {},
     "output_type": "display_data"
    }
   ],
   "source": [
    "# df = pd.DataFrame([(nqubits, theta, error) for nqubits, (theta, error) in avail_results], columns=[\"nqubits\", \"theta\", \"error\"])\n",
    "df = pd.read_pickle(\"/home/jovyan/2024_Quantinuum/challenge_resources/qpe_nqubits_2.pkl\")\n",
    "df.groupby(\"nqubits\").agg([\"mean\", \"std\"])[\"error\"].plot()\n",
    "# df.to_pickle(\"/home/jovyan/2024_Quantinuum/challenge_resources/qpe_nqubits_2.pkl\")"
   ]
  },
  {
   "cell_type": "markdown",
   "id": "8f23a668-7708-4af3-ab8a-ad4546db2704",
   "metadata": {},
   "source": [
    "## 2. Iterative QPE Algorithm"
   ]
  },
  {
   "cell_type": "code",
   "execution_count": 96,
   "id": "f2b28e56-cdbe-4a2a-bdcd-710bd843028a",
   "metadata": {},
   "outputs": [],
   "source": [
    "# m is precision of answer\n",
    "def iter_circ(m_bits, eigenstate: Circuit, unitary: Circuit) -> Circuit:\n",
    "    # create base of circuit to return\n",
    "    iter_circ: Circuit = Circuit(1, m_bits + 1)\n",
    "    qreg = iter_circ.get_q_register(\"q\")\n",
    "    creg = iter_circ.get_c_register(\"c\")\n",
    "    ancil = qreg[0]\n",
    "    n_state_prep_qubits = eigenstate.n_qubits\n",
    "    sreg = iter_circ.add_q_register(\"psi\", n_state_prep_qubits)\n",
    "    iter_circ.add_circuit(eigenstate, list(sreg))\n",
    "\n",
    "    # Create a controlled unitary with a single control qubit\n",
    "    unitary.name = \"U\"\n",
    "    controlled_u_gate = QControlBox(CircBox(unitary), 1)\n",
    "\n",
    "    # sub-circuit to compute creg[j] (the j'th bit of the answer)\n",
    "    for j in range(m_bits, 0, -1):\n",
    "        # add hadamard to ancillary qubit\n",
    "        iter_circ.H(0)\n",
    "        # add unitaries\n",
    "        for _ in range(2 ** (j - 1)):\n",
    "            iter_circ.add_qcontrolbox(controlled_u_gate, [ancil] + list(sreg))\n",
    "\n",
    "        # add rotations\n",
    "        for expn in range(m_bits + 1 - j, 1, -1):\n",
    "            phase = - 2 * np.pi / (2 ** expn)\n",
    "            # this is the problematic line, I believe\n",
    "            iter_circ.U1(phase, 0, condition=creg[expn + j - 1])\n",
    "            # print(expn, expn + j - 1)\n",
    "        iter_circ.H(0)\n",
    "        iter_circ.Measure(ancil, creg[j])\n",
    "        iter_circ.Reset(0)\n",
    "\n",
    "    # dummy just in case\n",
    "    iter_circ.Measure(ancil, creg[0])\n",
    "    return iter_circ"
   ]
  },
  {
   "cell_type": "code",
   "execution_count": 110,
   "id": "e748a217-c354-4bda-b4b6-ef4893c5a377",
   "metadata": {},
   "outputs": [],
   "source": [
    "# get circuit with phase input_angle\n",
    "def get_qpe_iter_circuit(input_angle: float, n_bits: int, show_circuit: bool = False):\n",
    "    prep_circuit = Circuit(1).X(0)\n",
    "    unitary_circuit = Circuit(1).U1(input_angle, 0)  # Base unitary for controlled U ops\n",
    "    qpe_circ_trivial = iter_circ(\n",
    "        n_bits, prep_circuit, unitary_circuit\n",
    "    )\n",
    "\n",
    "    if show_circuit:\n",
    "        render_circuit_jupyter(qpe_circ_trivial)\n",
    "\n",
    "    return qpe_circ_trivial\n",
    "\n",
    "def qpe_iter_qubits_experiment(n_qubits, theta_list):\n",
    "    params = list(product(theta_list, n_qubits))\n",
    "    circuits = [get_qpe_iter_circuit(*p) for p in params]\n",
    "    compiled_circuits = [backend.get_compiled_circuits(circuits[10*n:10*n+10]) for n in tqdm(range(1, int(len(params)/10)), position=0, leave=True)]#  for circuit in tqdm(circuits, position=0, leave=True)]\n",
    "    compiled_circuits = [item for row in compiled_circuits for item in row]\n",
    "    res = zip(n_qubits * len(theta_list), backend.process_circuits(compiled_circuits, n_shots = n_shots))\n",
    "    return res\n",
    "\n",
    "def get_result_theta_error(handle):\n",
    "    if \"COMPLETED\" in str(backend.circuit_status(handle).status):\n",
    "        try:\n",
=======
>>>>>>> main
    "            result = backend.get_result(handle, timeout=2)\n",
    "            theta = single_phase_from_backendresult(result)\n",
    "            error = abs(input_angle_example - (2 * theta))\n",
    "            return theta, error\n",
    "        except Exception as e:\n",
    "            return None\n",
    "    else:\n",
    "        return None"
<<<<<<< HEAD
   ]
  },
  {
   "cell_type": "code",
   "execution_count": 114,
   "id": "6201c607-7956-4656-86e6-e9e1acaab2af",
   "metadata": {},
   "outputs": [
    {
     "name": "stderr",
     "output_type": "stream",
     "text": [
      "100%|██████████| 1/1 [00:27<00:00, 27.10s/it]\n"
     ]
    }
   ],
   "source": [
    "qpe_qubits_results = qpe_iter_qubits_experiment(n_qubits_list, theta_list)\n",
    "qpe_qubits_results = list(qpe_qubits_results)"
   ]
  },
  {
   "cell_type": "code",
   "execution_count": 115,
   "id": "a582f510-416c-4635-8e3b-d50e2ffccf4f",
   "metadata": {},
   "outputs": [
    {
     "data": {
      "text/plain": [
       "[(4,\n",
       "  ResultHandle('4d0ca6b2-c36c-11ee-95de-66882c0b24aa', 'null', 9, '[[\"c\", 0], [\"c\", 1], [\"c\", 2], [\"c\", 3], [\"c\", 4], [\"c\", 5], [\"c\", 6], [\"c\", 7], [\"c\", 8]]')),\n",
       " (6,\n",
       "  ResultHandle('4d0caaea-c36c-11ee-95de-66882c0b24aa', 'null', 11, '[[\"c\", 0], [\"c\", 1], [\"c\", 2], [\"c\", 3], [\"c\", 4], [\"c\", 5], [\"c\", 6], [\"c\", 7], [\"c\", 8], [\"c\", 9], [\"c\", 10]]')),\n",
       " (8,\n",
       "  ResultHandle('4d0cacca-c36c-11ee-95de-66882c0b24aa', 'null', 5, '[[\"c\", 0], [\"c\", 1], [\"c\", 2], [\"c\", 3], [\"c\", 4]]')),\n",
       " (10,\n",
       "  ResultHandle('4d0cae00-c36c-11ee-95de-66882c0b24aa', 'null', 7, '[[\"c\", 0], [\"c\", 1], [\"c\", 2], [\"c\", 3], [\"c\", 4], [\"c\", 5], [\"c\", 6]]')),\n",
       " (4,\n",
       "  ResultHandle('4d0caf40-c36c-11ee-95de-66882c0b24aa', 'null', 9, '[[\"c\", 0], [\"c\", 1], [\"c\", 2], [\"c\", 3], [\"c\", 4], [\"c\", 5], [\"c\", 6], [\"c\", 7], [\"c\", 8]]')),\n",
       " (6,\n",
       "  ResultHandle('4d0cb382-c36c-11ee-95de-66882c0b24aa', 'null', 11, '[[\"c\", 0], [\"c\", 1], [\"c\", 2], [\"c\", 3], [\"c\", 4], [\"c\", 5], [\"c\", 6], [\"c\", 7], [\"c\", 8], [\"c\", 9], [\"c\", 10]]')),\n",
       " (8,\n",
       "  ResultHandle('4d0cb5ee-c36c-11ee-95de-66882c0b24aa', 'null', 5, '[[\"c\", 0], [\"c\", 1], [\"c\", 2], [\"c\", 3], [\"c\", 4]]')),\n",
       " (10,\n",
       "  ResultHandle('4d0cb72e-c36c-11ee-95de-66882c0b24aa', 'null', 7, '[[\"c\", 0], [\"c\", 1], [\"c\", 2], [\"c\", 3], [\"c\", 4], [\"c\", 5], [\"c\", 6]]')),\n",
       " (4,\n",
       "  ResultHandle('4d0cb850-c36c-11ee-95de-66882c0b24aa', 'null', 9, '[[\"c\", 0], [\"c\", 1], [\"c\", 2], [\"c\", 3], [\"c\", 4], [\"c\", 5], [\"c\", 6], [\"c\", 7], [\"c\", 8]]')),\n",
       " (6,\n",
       "  ResultHandle('4d0cb986-c36c-11ee-95de-66882c0b24aa', 'null', 11, '[[\"c\", 0], [\"c\", 1], [\"c\", 2], [\"c\", 3], [\"c\", 4], [\"c\", 5], [\"c\", 6], [\"c\", 7], [\"c\", 8], [\"c\", 9], [\"c\", 10]]'))]"
      ]
     },
     "execution_count": 115,
     "metadata": {},
     "output_type": "execute_result"
    }
   ],
   "source": [
    "qpe_qubits_results"
   ]
  },
  {
   "cell_type": "code",
   "execution_count": null,
   "id": "c6f6f7dc-acd0-4bda-a3ea-acefde3e3081",
   "metadata": {},
   "outputs": [
    {
     "name": "stderr",
     "output_type": "stream",
     "text": [
      " 80%|████████  | 8/10 [02:50<00:40, 20.19s/it]"
     ]
    }
   ],
   "source": [
    "avail_results = []\n",
    "for shots, res in tqdm(qpe_qubits_results, position=0, leave=True):\n",
    "    result = get_result_theta_error(res)\n",
    "    if result != None:\n",
    "        avail_results.append((shots, result))\n",
    "# pd.DataFrame(avail_results, columns=[\"nshots\", \"error\"]).dropna().groupby(\"nshots\").agg([\"mean\", \"std\"])"
=======
>>>>>>> main
   ]
  },
  {
   "cell_type": "markdown",
   "id": "1cba5d82-aa39-48fb-84f4-5f59c5ce5ae1",
   "metadata": {},
   "source": [
    "### 1.4 Varying Number of Shots\n",
    "\n",
    "Varying the number of shots from 100 to 5000, keeping `n_qubits = 4`."
   ]
  },
  {
   "cell_type": "code",
   "execution_count": 13,
   "id": "2472f8ae-578c-43cf-a166-cf3daf9821ba",
   "metadata": {},
   "outputs": [],
   "source": [
    "# from pytket.extensions.quantinuum import QuantinuumBackend, QuantinuumAPIOffline\n",
    "# api_offline = QuantinuumAPIOffline()\n",
    "\n",
    "# backend = QuantinuumBackend(device_name=\"H1-1LE\", api_handler = api_offline)"
   ]
  },
  {
   "cell_type": "code",
   "execution_count": 48,
   "id": "f8f2285c-47e5-4877-bced-5bfde0807dad",
   "metadata": {},
   "outputs": [
    {
     "name": "stderr",
     "output_type": "stream",
     "text": [
      "100%|██████████| 10/10 [00:59<00:00,  5.91s/it]\n",
      "100%|██████████| 10/10 [00:05<00:00,  1.72it/s]\n"
     ]
    }
   ],
   "source": [
    "qpe_shots_results = qpe_shots_experiment(n_shots_list, theta_list)"
   ]
  },
  {
   "cell_type": "code",
   "execution_count": 59,
   "id": "22acb2af-2f66-4cfb-8fa3-8adabee8d480",
   "metadata": {
    "editable": true,
    "slideshow": {
     "slide_type": ""
    },
    "tags": []
   },
   "outputs": [
    {
     "name": "stderr",
     "output_type": "stream",
     "text": [
      "100%|██████████| 100/100 [00:05<00:00, 18.36it/s]\n"
     ]
    }
   ],
   "source": [
    "avail_results = []\n",
    "for shots, res in tqdm(qpe_shots_results, position=0, leave=True):\n",
    "    result = get_result_theta_error(res)\n",
    "    if result != None:\n",
    "        avail_results.append((shots, result))\n",
    "# pd.DataFrame(avail_results, columns=[\"nshots\", \"error\"]).dropna().groupby(\"nshots\").agg([\"mean\", \"std\"])"
   ]
  },
  {
   "cell_type": "code",
   "execution_count": 62,
   "id": "a12237e1-42a0-42ec-a945-fbb062fd3689",
   "metadata": {},
   "outputs": [
    {
     "data": {
      "text/plain": [
       "0     0.1875\n",
       "1     0.3750\n",
       "2     0.0625\n",
       "3     0.4375\n",
       "4     0.3125\n",
       "       ...  \n",
       "95    0.4375\n",
       "96    0.3750\n",
       "97    0.5000\n",
       "98    0.0625\n",
       "99    0.5000\n",
       "Name: theta, Length: 100, dtype: float64"
      ]
     },
     "execution_count": 62,
     "metadata": {},
     "output_type": "execute_result"
    }
   ],
   "source": [
    "df[\"theta\"]"
   ]
  },
  {
   "cell_type": "code",
   "execution_count": 74,
   "id": "28457b72-ca56-427b-8bcd-18150819de44",
   "metadata": {},
   "outputs": [
    {
     "data": {
      "text/plain": [
       "<Axes: xlabel='nshots'>"
      ]
     },
     "execution_count": 74,
     "metadata": {},
     "output_type": "execute_result"
    },
    {
     "data": {
      "image/png": "iVBORw0KGgoAAAANSUhEUgAAAj4AAAGwCAYAAACpYG+ZAAAAOXRFWHRTb2Z0d2FyZQBNYXRwbG90bGliIHZlcnNpb24zLjcuMSwgaHR0cHM6Ly9tYXRwbG90bGliLm9yZy/bCgiHAAAACXBIWXMAAA9hAAAPYQGoP6dpAABH3klEQVR4nO3deVxVdf7H8ddlBwUUlEXFrTJNXMFEzdISqjHLsiRLFHVqNEvN37SNZY5N0ea0jqZWmpZIKq3DZLSYlqaGkJpmaSouEOICBMp2z++PO94JUQNFDnDez8fjPh7dc7/33M/5jnPvm+853++xGYZhICIiImIBLmYXICIiIlJbFHxERETEMhR8RERExDIUfERERMQyFHxERETEMhR8RERExDIUfERERMQy3MwuoKbY7XYOHjyIr68vNpvN7HJERESkCgzDoKCggBYtWuDicuHHYxpM8Dl48CBhYWFmlyEiIiLnYN++fbRq1eqCf06DCT6+vr6Ao+P8/PxMrkZERESqIj8/n7CwMOfv+IXWYILPydNbfn5+Cj4iIiL1TG1dpqKLm0VERMQyFHxERETEMhR8RERExDIazDU+IiIi56O8vJzS0lKzy2hw3N3dcXV1NbsMJwUfERGxNMMwyM7O5tixY2aX0mA1adKEkJCQOrHOnoKPiIhY2snQExQUhI+PT534cW4oDMOgqKiInJwcAEJDQ02uSMFHREQsrLy83Bl6AgMDzS6nQfL29gYgJyeHoKAg00976eJmERGxrJPX9Pj4+JhcScN2sn/rwjVUCj4iImJ5Or11YdWl/lXwEREREctQ8BERERHLUPARERERy1Dw+QMFJ0pZt+uw2WWInNXxknKzSxARqRcUfM6ipMzO+LfTGPnGet7duM/sckQqKSop465F39FlxkrmrNqFYRhmlyQiUqcp+PyBYF8vyu0GD67YzIuf/aQfFqkzcn8rZsS8b0nd9itldoNnPvmRxz/8gXK7/o2KnA/DMCgqKTPlUZ3fmAEDBnDfffcxZcoUmjZtSnBwMPPmzaOwsJAxY8bg6+vLRRddxH/+8x/ne7Zt28af/vQnGjduTHBwMHFxceTm5jpf/+STT7jiiito0qQJgYGB3HDDDezatcv5+p49e7DZbCQnJzNw4EB8fHzo1q0b69atq5nOrwU2o4H8kufn5+Pv709eXh5+fn41tl/DMHhu5Q5mr3L8D397rzD+MTQcN1dlRjHPntxCRi/YwN7DRTTxcefWnq1445vdGAZc2zmYl27vgZd73bk3jkhddeLECXbv3k27du3w8vICHCOpl01faUo922Zei49H1dYWHjBgAJs2beLBBx8kNjaWpKQkHn/8ca699lpuvvlmBgwYwAsvvMC7775LZmYmeXl5dO3albvuuotRo0Zx/PhxHnroIcrKyvjiiy8AWLFiBTabjS5dulBYWMj06dPZs2cPGRkZuLi4sGfPHtq1a0fHjh15/vnnueSSS5g2bRobN25k586duLmdvvbT9fNJF+r3+0wUfKpo8bd7efyDrdgNGHhpc169oyeNPLXwtdS+9MyjjHvrO44UlhAW4M3CMZdzUfPG/HtzFvcnZVBSbqdn6ya8MboXTRt5mF2uSJ1W34NPeXk5a9asARyrUPv7+3PLLbewaNEiwHE7jtDQUNatW0dKSgrr169n5cr/Hdv+/fsJCwtjx44ddOjQodJnHDp0iKCgILZs2UJ4eLgz+Lz++uuMGzfOUfO2bXTu3Jnt27fTsWPH09Zal4KPfrmrKC6qDcG+nkxams6XOw4xYv63vDG6F819Pc0uTSzks22/cm/iJk6U2unS0p834iMJ8nV8iQzuGkqzxh7cteg7NmUeY9ictbw19nLCArQirUh1eLu7sm3mtaZ9dnV07drV+d+urq4EBgbSpUsX57bg4GDAcbuItLQ0vvzySxo3blxpP7t27aJDhw7s2rWLxx57jG+//Zbc3FzsdjsAmZmZhIeHn/ZzT95/Kycn54zBpy5R8KmGmM4hLLkrinELN7J5fx7D5qxl4ZhetG9e+R+RSE17Z/1eHnvfMep4VYfmzL6z8qhj7/aBLJ/Ql/g3N/BLbiE3z17LgvhedGnlb1LVIvWPzWar8qiL2dzd3Ss8t9lsFbadXDHZbrdjt9sZMmQIzzzzTKX9nAwvQ4YMISwsjPnz59OiRQvsdjvh4eGUlJSc8XN//xn1gS5UqaaerZuyYkJfwgK8yTxSxLA5a9mUedTssqQBMwyD51fuYNp7jtBzW0QrXh8decZTrR2CfXlvYj86hviS+1sxsfPWsWpHTi1XLSJ1Tc+ePfnhhx9o27YtF198cYVHo0aNOHz4MNu3b+fRRx/lmmuuoVOnThw92vB+3xR8zkH75o1JntCPrq38OVpUyh3zHTNrRGpaabmdvy7bzKtf7gRg8jWX8OytXXH/g4vrg/28WDa+D/0uDqSopJxxb33Hu99pSQYRK5s4cSJHjhxhxIgRbNiwgV9++YVPP/2UsWPHUl5eTtOmTQkMDGTevHns3LmTL774gqlTp5pddo1T8DlHzX09SbwrioGXNudEqZ2/LP6Oxd/uNbssaUB+Ky5j7MKNrNi0H1cXG0/f0oX7oztU+WZ/vl7uLIi/nJt7tHQsybB8My999rOWZBCxqBYtWvDNN99QXl7OtddeS3h4OJMnT8bf3x8XFxdcXFxYunQpaWlphIeHc//99/Pcc8+ZXXaN06yu81RWbmfae1tJ+u9f0/cMuIgHrr20Tt2JVuqfnPwTxC/YyLasfLzdXZl9Z08Gdgw6p30ZhsGzK3cw579LMoy4PIwnbtKSDCJw9tlGUnPq0qwuffOdJzdXF54e1oUpgy4BYPaqXfzfu99TUlY/LvKSumdnTgE3z17Ltqx8Aht5sPTuqHMOPeC48PCh6zryxE2dcbFB4oZ93L04jaKSshqsWkSkflDwqQE2m40pgzrw7LCuuLrYSE4/wNiFGyk4UWp2aVLPbNxzhGFz1nHg2HHaNWtE8j196RbWpEb2HdenLa+NjMDTzYUvfszh9nnfkvtbcY3sW0Skvjin4DN79mzncFVERIRz8aTTSU5OJjo6mubNm+Pn50efPn0qLJ500rFjx5g4cSKhoaF4eXnRqVMnUlJSzqU80wzvFcbroyPx8XDl6525DJ/7Lb/mnzC7LKkn/rMliztfX0/e8VK6hzVh+fg+tAlsVKOfcXJJhqY+7mzen8cts9eyO7ewRj9DRKQuq3bwSUpKYsqUKUybNo309HT69+/P9ddfT2Zm5mnbr169mujoaFJSUkhLS2PgwIEMGTKE9PR0Z5uSkhKio6PZs2cPy5cvZ8eOHcyfP5+WLVue+5GZZOClQSy9O4pmjT3YnpXPLbPX8vOvBWaXJXXcgm92c8+STZSU2RnUKZjEu6IIbHxhFseMaFN5SYZ0LckgIhZR7Yube/fuTc+ePZkzZ45zW6dOnRg6dCgJCQlV2kfnzp2JjY1l+vTpALz22ms899xz/Pjjj5UWY6oqsy5uPpPMw0WMXrCB3bmF+Hm58froXlzeLsDssqSOsdsNnv7kR+at/gWAO3u35u83dq6VC48PFRQzduFGthzIw8vdhVdG9CT6suAL/rkidYkubq4d9fbi5pKSEtLS0oiJiamwPSYmhrVr11ZpH3a7nYKCAgIC/hcCPvzwQ/r06cPEiRMJDg4mPDycp556ivLy8jPup7i4mPz8/AqPuqR1oA8rJvSlZ+sm5J8oY+Qb60nZkmV2WVKHFJeVMzkpwxl6Hrj20lq9AW5zX0+W3h3FgN8tyfC2lmQQkQauWt+wubm5lJeXO+/9cVJwcDDZ2dlV2sesWbMoLCxk+PDhzm2//PILy5cvp7y8nJSUFB599FFmzZrFk08+ecb9JCQk4O/v73yEhYVV51BqRUAjD975cxQxlwVTUmZn4pJNvPH1brPLkjog73gpo9/cwEffH8TNxcY/h3dj4sCLa30ZhEaebswfFcnwyFbYDXj0/a08t/JHrfUjIg3WOf1peeqXs2EYVfrCTkxMZMaMGSQlJREU9L/puXa7naCgIObNm0dERAS3334706ZNq3A67VSPPPIIeXl5zse+fXVzVVpvD1fmjIwgLqoNhgFPfLyNf3y8DbtdPyxWdfDYcYa/to5vfzlCY083FozpxS09W5lWj7urC88M6+pckuFfX+7i/5ZpSQYRaZiqFXyaNWuGq6trpdGdnJycSqNAp0pKSmLcuHG8++67DBo0qMJroaGhdOjQAVfX/92VtlOnTmRnZ1e6MdpJnp6e+Pn5VXjUVa4uNmbe1JmHrnPctfb1r3czaWk6xWVnPpUnDdOP2Y4L3nf8WkCQrydJf4mi/yXNzS7LuSTDM8O6OJZk2HSAcW9pSQaRhm7Pnj3YbDYyMjLMLqXWVCv4eHh4EBERQWpqaoXtqamp9O3b94zvS0xMJD4+niVLljB48OBKr/fr14+dO3dWuLPrTz/9RGhoKB4eHtUpsc6y2WxMGHARL8R2w93Vxsebsxj1xgbyivTDYhVrd+Vy25x1ZOef4OKgxiTf05fOLerWXdNje7Xm9VGReLu7subnXGK1JINIvRQfH8/QoUPNLqNOqvaprqlTp/L666/z5ptvsn37du6//34yMzMZP3484DgFNWrUKGf7xMRERo0axaxZs4iKiiI7O5vs7Gzy8vKcbSZMmMDhw4eZPHkyP/30E//+97956qmnmDhxYg0cYt1yc49WLBxzOY093Vi/+wi3zV3LwWPHzS5LLrAPMg4w+s0NFBSXcXnbAJaP70Orpj5ml3VaAzsGkfQXx5IM2/67JMPOHC3JICINQ7WDT2xsLC+++CIzZ86ke/furF69mpSUFNq0aQNAVlZWhTV95s6dS1lZmXNxwpOPyZMnO9uEhYXx6aefsnHjRrp27cqkSZOYPHkyDz/8cA0cYt3T7+JmvPuXPgT7efLTr79x8+xv2J5Vt2alSc0wDIO5X+1i8tIMSssN/tQlhEXjLqeJT90eyezaqgnJE/rRrlkjDhw7zrA569i454jZZYnIKZYvX06XLl3w9vYmMDCQQYMG8cADD/DWW2/xwQcfYLPZsNlsrFq1CoANGzbQo0cPvLy8iIyMrLCmnlXoJqUmOnDsOPFvbuDnnN/w9XRjblwEfS9uZnZZUkPK7QZPfLyNhWv3ADCmX1seG3wZLi715wa2RwpLGPfWRtIzj+Hh5sJLsd25vkuo2WWJ1JjTri9jGFBaZE5B7j5QxdmdWVlZtG7dmmeffZabb76ZgoIC1qxZw6hRoxg3bhz5+fksWLAAgICAAEpLS2nXrh1XX301jz32GLt372by5Mn88ssvpKen07179wt2WHVpHR+3C/4JckYtm3izfHxf7lr8HRt2H2H0gg08f1s3bupe/1aslopOlJYzZWkGn/zgmAjw6OBO/Ll/e5Orqr6ARh4s+XMUk5amk7rtV+5ZsonHBl/G2CvamV2ayIVTWgRPtTDns/92EDyqdquarKwsysrKuOWWW5xnXbp06QKAt7c3xcXFhISEONsvXLiQ8vJy3nzzTXx8fOjcuTP79+9nwoQJNX8cdZhuUmoyfx93Fo29nMFdQyktN5i8NIM5q3ZpHZV67GhhCSNfX88nP2Tj4erCKyN61MvQc5K3hyuvjYxgZFRrDANmfryNJ/+tJRlEzNatWzeuueYaunTpwm233cb8+fM5evTMt5/Zvn073bp1w8fnf9cX9unTpzZKrVM04lMHeLm78srtPQjx8+KNr3fzzCc/kpV3nMeHdMa1Hp0WEdh3xHGrkl8OFeLr5ca8uEj6XBRodlnnzdXFxhM3hdOiiTfPfrKD+Wt2k51fzPO3dcXTzfWPdyBSn7j7OEZezPrsKnJ1dSU1NZW1a9fy6aef8sorrzBt2jTWr19/2vb6g9pBwaeOcHGx8dgNlxHq78WTKdtZtG4vv+af4KXbe+Dlrh+W+mDrgTzGLNzIoYJiQv29eGvs5XQI9jW7rBpjs9m4Z8DFhPh58eDyzXz0/UFy8k8wb1Qk/t7ndo89kTrJZqvy6Saz2Ww2+vXrR79+/Zg+fTpt2rThvffew8PDo9Jtny677DIWL17M8ePH8fb2BuDbb781o2xT6VRXHfPn/u15dURPPFxdWPnDr9wx/1uOFp5+EUepO7766RCxc9dxqKCYjiG+vHdPvwYVen7vlp6nLMnwmpZkEDHD+vXreeqpp/juu+/IzMwkOTmZQ4cO0alTJ9q2bcvmzZvZsWMHubm5lJaWcscdd+Di4sK4cePYtm0bKSkpPP/882YfRq1T8KmDBncNZfG4y/HzcmNT5jGGzVnLviMmzTCQP7Tsu32MW7iRwpJy+l4UyLvj+xDi37Dv8nzFJc1I+ksUQb6OJRlumb2WH7O1JINIbfLz82P16tX86U9/okOHDs77XF5//fXcddddXHrppURGRtK8eXO++eYbGjduzEcffcS2bdvo0aMH06ZN45lnnjH7MGqdprPXYT/9WkD8mxs4mHeCZo09WRDfiy6t6tZKv1ZmGAavfrGTWak/AXBT9xY8d2s3PNys8/fEgWPHGf3mBnZqSQapp842zVpqTl2azm6db+h6qEOwL+9N7EfHEF9yfysmdt46Vu3IMbssAcrK7fztva3O0DP+qot4YXh3S4UecCzJsGJ8Xy5vG0BBcRmjF2zgg4wDZpclInJG1vqWroeC/bxYNr4PV1zcjKKScsa99R3vflc370RvFUUlZfxlcRqJGzKx2WDmTZ15+PqO9Wphwprk7+POonGXM7jL/5ZkeO0rLckgInWTgk894OvlzpvxvbilR0vK7QYPLt/MS5/9rB8WE+T+VsyI+ev5/MccPN1cmHNnBKP6tDW7LNN5ubvyyogejO3nWNjw6f/8yIwPf6Bca/2ISB2j4FNPeLi5MGt4N+4ZcBEAL3z2E48kb6Gs3P4H75Sasie3kGFz1vL9vmM08XFnyV29uS485I/faBEuLjamD7mMRwd3AuCtdXu55500TpSW/8E7RURqj4JPPWKz2Xjwuo48MTQcFxss3biPuxZ9R2FxmdmlNXgZ+xyz6/YeLqJVU29WTOhLRJsAs8uqk/7cvz2v3tHDuSTDna+v15IMUudpBP3Cqkv9q+BTD8VFteG1kRF4ubvw5Y5DjJj/LYcKis0uq8H6fPuv3D5vHYcLSwhv6UfyPX25qHljs8uq027o2oJF/12SIW3vUYa9piUZpG5yd3csvllUpH+fF9LJ/j3Z32bSdPZ6bFPmUcYt3MjRolJaB/iwcEwv2usHuUYtWZ/Jo+9vwW7AlR2aM/vOnjT21ILnVXXqkgwLx/QivKWWZJC6JSsri2PHjhEUFISPjw+2Kt4dXf6YYRgUFRWRk5NDkyZNCA0NrdSmtn+/FXzquV8O/cboBRvYd+Q4TX3ceSO+Fz1bNzW7rHrPMAz+mfoTr3yxE4DbIlrx1C1dcHfVIGl1ZeedIH7BBn7MLqCRhyuzR0ZwVYfmZpcl4mQYBtnZ2Rw7dszsUhqsJk2aEBISctpQqeBzjqwafAAOFRQz7q2NbN6fh5e7C6+M6En0ZcFml1VvlZbbeXjFFlZs2g/ApGsu4f5Bl+ivwPOQf6KUCW+n8c3Ow7i62Hj6li7cFhlmdlkiFZSXl1NaWmp2GQ2Ou7s7rq5nvuekgs85snLwASgsLuPeJZv4cschXGzw95vCiYtqY3ZZ9c5vxWVMeDuNNT/n4upi4x9DwxlxeWuzy2oQSsrsPLj8e97PcNz1emp0B+67+mIFShGL08rNck4aeboxf1QksZFh2A147P2tPPvJj3XqSvq6Lif/BLFz17Hm51y83V2ZPypCoacGebi58M/h3Znw3yUZ/pn6E397T0syiEjtUvBpQNxcXXh6WBemDLoEgNmrdvF/735PSZl+WP7IzpzfuHn2Wn44mE9gIw+W3h3F1R11urCmubjYeOi6jsy8qTM2GyRu2Mfdi9MoKtGSDCJSOxR8GhibzcaUQR14dlhXXF1sJKcfYOzCjRSc0HnrM/luzxFufW0tB44dp22gD8n39KVbWBOzy2rQRvVpy2sjI/B0c+GLH3MYMe9bcn/TkgwicuEp+DRQw3uF8froSHw8XPl6Zy7D537Lr/knzC6rzvlkaxZ3vL6eY0WldA9rwooJfWkT2Mjssizh2s4hLLmrN0183Pl+fx7D5qxlT26h2WWJSAOn4NOADbw0iKV3R9GssQfbs/K5ZfZafv61wOyy6oyF3+xmwjubKCmzM6hTEIl3RRHY2NPssiwlok0AKyb0JSzAm72Hi7hlzlrSM4+aXZaINGAKPg1c11ZNSJ7Qj3bNGnHg2HGGzVnLht1HzC7LVHa7QULKdmZ8tA3DgDt6t+a1kRF4e5x5uqVcOBc1b8yKCX3p0tKfI4UljJj/LZ9t+9XsskSkgVLwsYDWgT6smNCXnq2bkH+ijJFvrCdlS5bZZZmiuKycKUkZzF39CwAPXHspTw4Nx00LE5oqyNeLpXdHcVWH5pwotXP34u94Z/1es8sSkQZI3/YWEdDIg3f+HEXMZcGUlNmZuGQTb3y92+yyalXe8VLi39zIh98fxM3FxqzbujFxoNaRqSsaebrx+uhIbotohd2Aae9t5fmVO7Qkg4jUKAUfC/H2cGXOyAjiotpgGPDEx9v4x8fbsNsb/g9LVt5xhr+2jnW/HKaRhytvxvdiWEQrs8uSU7i7uvDsrV2ZfI1jSYZXv9zJX5dtplRr/YhIDdHKzRZkGAavffULz3zyIwCDu4Yy/sqLaKgDH0eLSnhw+Way8k7Q3Ndxo8zOLXSjzLpu6YZMpr2/lXK7Qf9LmvHAtZfi0lD/kYrUE+2bN8LHo2Zv1KxbVpwjBZ/qey99Pw8u30xpeYP4J/CHLmreiLfGXk6rpj5mlyJV9OWPOdzzziaOl5abXYqIAMn39K3xG2HX9u93zcY2qVdu7tGKIF8vnvh4G8eKGvYCh93DmvD0sC408fEwuxSphoEdg0j6SxSPvr+VnHwtcChiNo8GMBFEIz4iIiJiGt2kVEREROQCUfARERERy1DwEREREctQ8BERERHLUPARERERy1DwEREREctQ8BERERHLUPARERERy1DwEREREctQ8BERERHLUPARERERy1DwEREREctQ8BERERHLUPARERERy1DwEREREctQ8BERERHLUPARERERy1DwEREREcs4p+Aze/Zs2rVrh5eXFxEREaxZs+aMbZOTk4mOjqZ58+b4+fnRp08fVq5cWaHNwoULsdlslR4nTpw4l/JERERETqvawScpKYkpU6Ywbdo00tPT6d+/P9dffz2ZmZmnbb969Wqio6NJSUkhLS2NgQMHMmTIENLT0yu08/PzIysrq8LDy8vr3I5KRERE5DRshmEY1XlD79696dmzJ3PmzHFu69SpE0OHDiUhIaFK++jcuTOxsbFMnz4dcIz4TJkyhWPHjlW5juLiYoqLi53P8/PzCQsLIy8vDz8/vyrvR0RERMyTn5+Pv79/rf1+V2vEp6SkhLS0NGJiYipsj4mJYe3atVXah91up6CggICAgArbf/vtN9q0aUOrVq244YYbKo0InSohIQF/f3/nIywsrDqHIiIiIhZUreCTm5tLeXk5wcHBFbYHBweTnZ1dpX3MmjWLwsJChg8f7tzWsWNHFi5cyIcffkhiYiJeXl7069ePn3/++Yz7eeSRR8jLy3M+9u3bV51DEREREQtyO5c32Wy2Cs8Nw6i07XQSExOZMWMGH3zwAUFBQc7tUVFRREVFOZ/369ePnj178sorr/Dyyy+fdl+enp54enqeS/kiIiJiUdUKPs2aNcPV1bXS6E5OTk6lUaBTJSUlMW7cOJYtW8agQYPO2tbFxYVevXqddcRHREREpLqqdarLw8ODiIgIUlNTK2xPTU2lb9++Z3xfYmIi8fHxLFmyhMGDB//h5xiGQUZGBqGhodUpT0REROSsqn2qa+rUqcTFxREZGUmfPn2YN28emZmZjB8/HnBce3PgwAEWLVoEOELPqFGjeOmll4iKinKOFnl7e+Pv7w/A3//+d6KiorjkkkvIz8/n5ZdfJiMjg3/96181dZwiIiIi1Q8+sbGxHD58mJkzZ5KVlUV4eDgpKSm0adMGgKysrApr+sydO5eysjImTpzIxIkTndtHjx7NwoULATh27Bh333032dnZ+Pv706NHD1avXs3ll19+nocnIiIi8j/VXsenrqrtdQBERETk/NXpdXxERERE6jMFHxEREbEMBR8RERGxDAUfERERsQwFHxEREbEMBR8RERGxDAUfERERsQwFHxEREbEMBR8RERGxDAUfERERsQwFHxEREbEMBR8RERGxDAUfERERsQwFHxEREbEMBR8RERGxDAUfERERsQwFHxEREbEMBR8RERGxDAUfERERsQwFHxEREbEMBR8RERGxDAUfERERsQwFHxEREbEMBR8RERGxDAUfERERsQwFHxEREbEMBR8RERGxDAUfERERsQwFHxEREbEMBR8RERGxDAUfERERsQwFHxEREbEMBR8RERGxDAUfERERsQwFHxEREbEMBR8RERGxDAUfERERsQwFHxEREbEMBR8RERGxDAUfERERsQwFHxEREbEMBR8RERGxDAUfERERsQwFHxEREbEMBR8RERGxDAUfERERsQwFHxEREbGMcwo+s2fPpl27dnh5eREREcGaNWvO2DY5OZno6GiaN2+On58fffr0YeXKlWdsv3TpUmw2G0OHDj2X0kRERETOqNrBJykpiSlTpjBt2jTS09Pp378/119/PZmZmadtv3r1aqKjo0lJSSEtLY2BAwcyZMgQ0tPTK7Xdu3cvf/3rX+nfv3/1j0RERETkD9gMwzCq84bevXvTs2dP5syZ49zWqVMnhg4dSkJCQpX20blzZ2JjY5k+fbpzW3l5OVdddRVjxoxhzZo1HDt2jPfff7/KdeXn5+Pv709eXh5+fn5Vfp+IiIiYp7Z/v6s14lNSUkJaWhoxMTEVtsfExLB27doq7cNut1NQUEBAQECF7TNnzqR58+aMGzeuSvspLi4mPz+/wkNERETkbKoVfHJzcykvLyc4OLjC9uDgYLKzs6u0j1mzZlFYWMjw4cOd27755hveeOMN5s+fX+VaEhIS8Pf3dz7CwsKq/F4RERGxpnO6uNlms1V4bhhGpW2nk5iYyIwZM0hKSiIoKAiAgoICRo4cyfz582nWrFmVa3jkkUfIy8tzPvbt21e9gxARERHLcatO42bNmuHq6lppdCcnJ6fSKNCpkpKSGDduHMuWLWPQoEHO7bt27WLPnj0MGTLEuc1utzuKc3Njx44dXHTRRZX25+npiaenZ3XKFxEREYur1oiPh4cHERERpKamVtiemppK3759z/i+xMRE4uPjWbJkCYMHD67wWseOHdmyZQsZGRnOx4033sjAgQPJyMjQKSwRERGpMdUa8QGYOnUqcXFxREZG0qdPH+bNm0dmZibjx48HHKegDhw4wKJFiwBH6Bk1ahQvvfQSUVFRztEib29v/P398fLyIjw8vMJnNGnSBKDSdhEREZHzUe3gExsby+HDh5k5cyZZWVmEh4eTkpJCmzZtAMjKyqqwps/cuXMpKytj4sSJTJw40bl99OjRLFy48PyPQERERKSKqr2OT12ldXxERETqnzq9jo+IiIhIfabgIyIiIpah4CMiIiKWoeAjIiIilqHgIyIiIpah4CMiIiKWoeAjIiIilqHgIyIiIpah4CMiIiKWoeAjIiIilqHgIyIiIpah4CMiIiKWoeAjIiIilqHgIyIiIpah4CMiIiKWoeAjIiIilqHgIyIiIpah4CMiIiKWoeAjIiIilqHgIyIiIpah4CMiIiKWoeAjIiIilqHgIyIiIpah4CMiIiKWoeAjIiIilqHgIyIiIpah4CMiIiKWoeAjIiIilqHgIyIiIpah4CMiIiKWoeAjIiIilqHgIyIiIpah4CMiIiKWoeAjIiIilqHgIyIiIpah4CMiIiKWoeAjIiIilqHgIyIiIpah4CMiIiKWoeAjIiIilqHgIyIiIpah4CMiIiKWoeAjIiIilqHgIyIiIpah4CMiIiKWoeAjIiIilqHgIyIiIpah4CMiIiKWcU7BZ/bs2bRr1w4vLy8iIiJYs2bNGdsmJycTHR1N8+bN8fPzo0+fPqxcubJSm8jISJo0aUKjRo3o3r07ixcvPpfSRERERM6o2sEnKSmJKVOmMG3aNNLT0+nfvz/XX389mZmZp22/evVqoqOjSUlJIS0tjYEDBzJkyBDS09OdbQICApg2bRrr1q1j8+bNjBkzhjFjxlQKSCIiIiLnw2YYhlGdN/Tu3ZuePXsyZ84c57ZOnToxdOhQEhISqrSPzp07Exsby/Tp08/YpmfPngwePJgnnniiSvvMz8/H39+fvLw8/Pz8qvQeERERMVdt/35Xa8SnpKSEtLQ0YmJiKmyPiYlh7dq1VdqH3W6noKCAgICA075uGAaff/45O3bs4MorrzzjfoqLi8nPz6/wEBERETkbt+o0zs3Npby8nODg4Arbg4ODyc7OrtI+Zs2aRWFhIcOHD6+wPS8vj5YtW1JcXIyrqyuzZ88mOjr6jPtJSEjg73//e3XKFxEREYs7p4ubbTZbheeGYVTadjqJiYnMmDGDpKQkgoKCKrzm6+tLRkYGGzdu5Mknn2Tq1KmsWrXqjPt65JFHyMvLcz727dt3LociIiIiFlKtEZ9mzZrh6upaaXQnJyen0ijQqZKSkhg3bhzLli1j0KBBlV53cXHh4osvBqB79+5s376dhIQEBgwYcNr9eXp64unpWZ3yRURExOKqNeLj4eFBREQEqampFbanpqbSt2/fM74vMTGR+Ph4lixZwuDBg6v0WYZhUFxcXJ3yRERERM6qWiM+AFOnTiUuLo7IyEj69OnDvHnzyMzMZPz48YDjFNSBAwdYtGgR4Ag9o0aN4qWXXiIqKso5WuTt7Y2/vz/guF4nMjKSiy66iJKSElJSUli0aFGFmWMiIiIi56vawSc2NpbDhw8zc+ZMsrKyCA8PJyUlhTZt2gCQlZVVYU2fuXPnUlZWxsSJE5k4caJz++jRo1m4cCEAhYWF3HPPPezfvx9vb286duzI22+/TWxs7HkenoiIiMj/VHsdn7pK6/iIiIjUP3V6HR8RERGR+kzBR0RERCxDwUdEREQsQ8FHRERELEPBR0RERCxDwUdEREQsQ8FHRERELEPBR0RERCxDwUdEREQsQ8FHRERELEPBR0RERCxDwUdEREQsQ8FHRERELEPBR0RERCxDwUdEREQsQ8FHRERELEPBR0RERCxDwUdEREQsQ8FHRERELEPBR0RERCxDwUdEREQsQ8FHRERELEPBR0RERCxDwUdEREQsQ8FHRERELEPBR0RERCxDwUdEREQsQ8FHRERELEPBR0RERCxDwUdEREQsQ8FHRERELEPBR0RERCxDwUdEREQsQ8FHRERELEPBR0RERCxDwUdEREQsQ8FHRERELEPBR0RERCxDwUdEREQsQ8FHRERELEPBR0RERCxDwUdEREQsQ8FHRERELEPBR0RERCxDwUdEREQsQ8FHRERELEPBR0RERCxDwUdEREQs45yCz+zZs2nXrh1eXl5ERESwZs2aM7ZNTk4mOjqa5s2b4+fnR58+fVi5cmWFNvPnz6d///40bdqUpk2bMmjQIDZs2HAupYmIiIicUbWDT1JSElOmTGHatGmkp6fTv39/rr/+ejIzM0/bfvXq1URHR5OSkkJaWhoDBw5kyJAhpKenO9usWrWKESNG8OWXX7Ju3Tpat25NTEwMBw4cOPcjExERETmFzTAMozpv6N27Nz179mTOnDnObZ06dWLo0KEkJCRUaR+dO3cmNjaW6dOnn/b18vJymjZtyquvvsqoUaOqtM/8/Hz8/f3Jy8vDz8+vSu8RERERc9X273e1RnxKSkpIS0sjJiamwvaYmBjWrl1bpX3Y7XYKCgoICAg4Y5uioiJKS0vP2qa4uJj8/PwKDxEREZGzqVbwyc3Npby8nODg4Arbg4ODyc7OrtI+Zs2aRWFhIcOHDz9jm4cffpiWLVsyaNCgM7ZJSEjA39/f+QgLC6vaQYiIiIhlndPFzTabrcJzwzAqbTudxMREZsyYQVJSEkFBQadt8+yzz5KYmEhycjJeXl5n3NcjjzxCXl6e87Fv377qHYSIiIhYjlt1Gjdr1gxXV9dKozs5OTmVRoFOlZSUxLhx41i2bNkZR3Kef/55nnrqKT777DO6du161v15enri6elZnfJFRETE4qo14uPh4UFERASpqakVtqemptK3b98zvi8xMZH4+HiWLFnC4MGDT9vmueee44knnuCTTz4hMjKyOmWJiIiIVEm1RnwApk6dSlxcHJGRkfTp04d58+aRmZnJ+PHjAccpqAMHDrBo0SLAEXpGjRrFSy+9RFRUlHO0yNvbG39/f8Bxeuuxxx5jyZIltG3b1tmmcePGNG7cuEYOVERERKTa1/jExsby4osvMnPmTLp3787q1atJSUmhTZs2AGRlZVVY02fu3LmUlZUxceJEQkNDnY/Jkyc728yePZuSkhJuvfXWCm2ef/75GjhEEREREYdqr+NTV2kdHxERkfqnTq/jIyIiIlKfKfiIiIiIZSj4iIiIiGUo+IiIiIhlKPiIiIiIZSj4iIiIiGUo+IiIiIhlKPiIiIiIZSj4iIiIiGUo+IiIiIhlKPiIiIiIZSj4iIiIiGUo+IiIiIhlKPiIiIiIZSj4iIiIiGUo+IiIiIhlKPiIiIiIZSj4iIiIiGUo+IiIiIhlKPiIiIiIZSj4iIiIiGUo+IiIiIhlKPiIiIiIZSj4iIiIiGUo+IiIiIhlKPiIiIiIZbiZXYCY7JdV8J+H4fgRsyu5sFr1ghtfAZ8AsyuR6jqQBh/fDwXZZlciInckQYseZldxXhR8rOyH92HFn8FeanYlF96PH8ORX2BkMviFml2NVNWuL2HpnVBaaHYlIgJQXmZ2BedNwceqvnsTPp4KGHDZTdD/r2CzmV3VhVF0GJL/Ajnb4M0YiHsfAi8yuyr5Iz+8D8l3QXkJtLsKYp4Am87Oi5gqoL3ZFZw3BR+rMQxY/Tx8+Q/H84gxMHgWuLiaW9eFNu5TWDzUMerz5rUwcgWEdjO7KjmTU4P5LfPBzdPsqkSkAdCfT1Zit8Mnj/wv9Fz5ANzwQsMPPQBN28DYlRDSFQoPwYLBsHuN2VXJqQwDVj/nuKYHwxHMb12g0CMiNUbBxyrKS+H98bB+juP5dU/D1Y823NNbp9M4COI/hjZXQEkBvD0Mtn9sdlVy0slg/sV/g3n/v1onmItIrVHwsYKSIlh6B2xOAhc3uHkeRE0wuypzePk7TnN1vAHKi+HdONi02Oyq5HTB/JrHrBXMRaRWKPg0dMePOq5t+flTcPOG2xOhW6zZVZnL3Qtuewt6jATDDh/eC1+/aHZV1vX7YG5ztXYwF5ELThc3N2T5WfD2LY7ZTF7+cMe70DrK7KrqBlc3uPFV8AmEb16Czx6HolyIfkKjDLXp+FFYEgv71juC+fC3oMO1ZlclIg2Ygk9DdXiXY6TnWCY0DoG4ZAjubHZVdYvNBtEzwacZpD4Ga1+BoiMw5GVHMJILS8FcREygU10NUdb3jinbxzKhaTsYt1Kh52z6TYKbZjtOs2S847jup/S42VU1bId3OdZUytnmCOZj/qPQIyK1QsGnodnzNSy8wTFlO6SLY/2apm3Nrqru63EnxL4Nrp6wI8Ux4+tEntlVNUwK5iJiIgWfhmT7x7D4FijOd0zZjv+3Ywq3VE3HP0Hce+DpB3u/gYWD4bccs6tqWBTMRcRkCj4NRfrbjlM05cVw6WDHlG0vf7Orqn/a9nMExkbNIXsLvBEDR/eYXVXD8OO/fxfM+ymYi4gpFHwagm9egg8mOqZmdx8Jwxc5pmzLuQnt6ljluUkbOLob3rgWfv3B7Krqt/S3IWnkf4P5nxTMRcQ0Cj71mWHAp49B6nTH876T4KZXNSOpJgRe5DgNE9QZfsuGBdfD3nVmV1U/VQrmi8Hd2+yqRMSiFHzqq/Iy+OBeWPuy43n0zP/evVpr0NQY3xAY828Ii3Jc6Lz4ZvhppdlV1R8K5iJSByn41Eelx+HdUZDxNthc4KZ/Qb/JZlfVMHk3dVzwfMm1UHYcEkfA90lmV1X3KZiLSB2l4FPfnMiDt2+FHf92TL2Ofdtx6wW5cDx84PZ3oOvtYJTDe3fDutlmV1V3lZ5QMBeROktjzvXJbzmOlW6zt4CHL9yxFNpeYXZV1uDqDkPngE8AfDsbVj4CRYetd4f7P3IiDxLvgL1fO4L5bQug42CzqxIRcVLwqS+O7nFcY3LkF8dU65ErILSb2VVZi4sLXPuU4/5eXzwBa553hJ/Bs8DF1ezqzKdgLiL1gE511Qe//uCYUn3kF2jS2jHVWqHHHDYbXPlXuOFFx2mctAWwfAyUFZtdmbmO7nGsxpy9xRHMx/xboUdE6qRzCj6zZ8+mXbt2eHl5ERERwZo1a87YNjk5mejoaJo3b46fnx99+vRh5cqKM2N++OEHhg0bRtu2bbHZbLz44ovnUlbDlPmtYyr1b9kQdBmM/dQx1VrMFTkGblsIrh6w7QN45zYoLjC7KnMomItIPVLt4JOUlMSUKVOYNm0a6enp9O/fn+uvv57MzMzTtl+9ejXR0dGkpKSQlpbGwIEDGTJkCOnp6c42RUVFtG/fnqeffpqQkJBzP5qG5qeVsGio47qJsN4wJgX8Qs2uSk667Ca4cxl4NIbdX8FbQ6Aw1+yqapeCuYjUMzbDMIzqvKF379707NmTOXPmOLd16tSJoUOHkpCQUKV9dO7cmdjYWKZPn17ptbZt2zJlyhSmTJly1n0UFxdTXPy/0wv5+fmEhYWRl5eHn59f1Q6mLvs+Cd6f4JhFdHG0YzVmDx+zq5LTObAJ3rnVcb1P4CWO6e9Nwsyu6sL76VPH7K2y445gfkeSY/q/iEg15Ofn4+/vX2u/39Ua8SkpKSEtLY2YmJgK22NiYli7dm2V9mG32ykoKCAgIKA6H11JQkIC/v7+zkdYWAP6ofl2jmPKtFEOXYbDiESFnrqsZU8Y8wn4tYLDPzvu75Xzo9lVXVib34WlIxyh55IYiHtfoUdE6oVqBZ/c3FzKy8sJDg6usD04OJjs7Owq7WPWrFkUFhYyfPjw6nx0JY888gh5eXnOx759+85rf3WCYcDnT8AnDzue954AN891TKWWuq15B8ctLppdCgUHYcF1sP87s6u6ML59DZLvAnsZdI2F25comItIvXFOFzfbTlm3xDCMSttOJzExkRkzZpCUlERQ0PndldnT0xM/P78Kj3rNXg4f3++YIg2O9WGuS3BMoZb6wb8ljP0EWkbC8aPw1o2w83Ozq6o5hgFf/AM+ecjxvPcEGPqagrmI1CvV+lVt1qwZrq6ulUZ3cnJyKo0CnSopKYlx48bx7rvvMmjQoOpX2pCVFTumRKctAGww+J9w5QNaGK8+8gmAUR/ARVdDaSEsiYWtK8yu6vydDOarn3M8VzAXkXqqWt9aHh4eREREkJqaWmF7amoqffv2PeP7EhMTiY+PZ8mSJQwerFVcKygucEyF3vYBuLg7VrrtNc7squR8eDaGEUnQ+Rawl8LycbBhvtlVnbtTg/kNLyiYi0i9Ve2Vm6dOnUpcXByRkZH06dOHefPmkZmZyfjx4wHHtTcHDhxg0aJFgCP0jBo1ipdeeomoqCjnaJG3tzf+/v6A46Lpbdu2Of/7wIEDZGRk0LhxYy6++OIaOdA6qfAwvDMMDqaDeyPH/aAuGmh2VVIT3Dxg2OuOEaCNr0PKXx2zvq56qH4FhuICSBoJv6xyBPNh86HzzWZXJSJyzqo9nR0cCxg+++yzZGVlER4ezgsvvMCVV14JQHx8PHv27GHVqlUADBgwgK+++qrSPkaPHs3ChQsB2LNnD+3atavU5qqrrnLu54/U9nS483Zsn+MWFId/Bu8AGLkcWkaYXZXUNMOAVU/DV087nl9+N1z3TP04RVR42DFN/+AmBXMRuWBq+/f7nIJPXVSvgs+hHY7Qk3/AMQU67j3HrCBpuNbPg/88CBgQfqvjhqduHmZXdWYK5iJSS+r0Oj5SA/Z/57inUf4BaNYBxq1U6LGC3nc7Tn25uMHW5ZB4O5QUml3V6R3a4fg3evhnRzAfu1KhR0QaDAWf2rTrC8cU5+NHHT8kYz4B/1ZmVyW1pcutjoue3X1g1+ew6CYoOmJ2VRXtT4M3r/tvML9UwVxEGhwFn9qyNRneGe6Y4tx+IIz6EBoFml2V1LZLBjmmu3s1gf0bYcGfIP+g2VU57PrCcb+x40ccwXysgrmINDwKPrVh4+uwfKxjanPnmx33NPJsbHZVYpawyx2hwjcUDm133OIid6e5NZ0umPuc321lRETqIgWfC8kwYNUz8O//AwyIHAvD3gA3T7MrE7MFdXJcOxNwEeTtc1xTczDdnFoUzEXEQhR8LhS73TGLZ9VTjudXPeRYkdnF1dy6pO5o2sYRfkK7QVEuLBwCu1fX3ucbBnz17O+C+TgFcxFp8BR8LoSyEsdNHDfMczy//lkY+Lf6tXCd1I7GzWH0x9C2P5QUwNvDYNuHF/5z7Xb4z0Pw5ZOO51c9BINnKZiLSIOn4FPTSgph6QjHlGUXN7jldej9F7OrkrrMyw/uXA6dhkB5CSwbDWlvXbjPKyuB9+6GDXMdzxXMRcRCFHxqUtERWDQUdn4Gbt4wYil0vc3sqqQ+cPeC296CnqPAsMNHk2DNPx2no2rSyWC+ZZmCuYhYUrXv1SVnkH8QFt/imKXj1QTuXOaYvSNSVS6uMORl8GkGX/8TPv+74/5e0U/UzC0uio447ha/f4MjmMcuhkuiz3+/IiL1iIJPTcjd6VjePy/TMUV5ZDIEX2Z2VVIf2Www6HHwCYRPp8G6Vx3h58ZXwNX93PerYC4iAuhU1/k7mOGYipyX6ZiaPHalQo+cv773wtDXwOYK3yc67pBeevzc9nV4F7xxrSP0+IY61hBS6BERi1LwOR+7V8PCGxxTkUO6OkJP0zZmVyUNRfcRjjuiu3nBT584RhWPH6vePg5mOBZI/H0wD+p0IaoVEakXFHzO1faPHFOPSwocU5Hj/+2YmixSky69HuLeA09/yFwHCwdDwa9Ve+/uNf8L5qHdFMxFRFDwOTebFsG7oxxTjzve4JiK7OVndlXSULXpC2P+DY2D4det8GYMHPnl7O/Z/nHFYD76YwVzEREUfKrHMODrF+DD+xxTjnvEOaYgu3uZXZk0dCFdHNfmNG0LR/c4rtnJ3nL6tpsWwbtxUF6sYC4icgoFn6qy2+HTR+GzGY7n/ab8d6aNJsZJLQlo/9+L58OhMAcWDIa9ayu2+fpFBXMRkbNQ8KmK8jL4YKJjajFAzD8g+u9a6VZqn2+I43qy1n2hOM9xwfOO/zhGIz99FD573NHuivsVzEVETsNmGDW9NKw58vPz8ff3Jy8vDz+/GhzWLz0Oy8bAT/9xTC2+6VXofkfN7V/kXJz677Jtv//d4DTmH9D3PnPrExGpogv2+30GGvE5m5Iix6JvP/3HMaU49m2FHqkb3P+78nK3EWCUO0KPzRWGzlHoERE5C42Dn427NwS2d8ykGbHU8Ve1SF3h6g43zQa/lrB1BVyX4Jj+LiIiZ6RTXX+kvAyO7YXAi2punyIiIgLoVFfd4+qm0CMiItJAKPiIiIiIZSj4iIiIiGUo+IiIiIhlKPiIiIiIZSj4iIiIiGUo+IiIiIhlKPiIiIiIZSj4iIiIiGUo+IiIiIhlKPiIiIiIZSj4iIiIiGUo+IiIiIhlKPiIiIiIZbiZXUBNMQwDcNzeXkREROqHk7/bJ3/HL7QGE3wKCgoACAsLM7kSERERqa6CggL8/f0v+OfYjNqKWBeY3W7n4MGD+Pr6YrPZzmkf+fn5hIWFsW/fPvz8/Gq4wvpH/VGZ+qQi9UdF6o/K1CcVqT8qOtkf27Zt49JLL8XF5cJfgdNgRnxcXFxo1apVjezLz89P/yB/R/1RmfqkIvVHReqPytQnFak/KmrZsmWthB7Qxc0iIiJiIQo+IiIiYhkKPr/j6enJ448/jqenp9ml1Anqj8rUJxWpPypSf1SmPqlI/VGRGf3RYC5uFhEREfkjGvERERERy1DwEREREctQ8BERERHLUPARERERy1Dw+Z3Zs2fTrl07vLy8iIiIYM2aNWaXVOMSEhLo1asXvr6+BAUFMXToUHbs2FGhjWEYzJgxgxYtWuDt7c2AAQP44YcfKrQpLi7mvvvuo1mzZjRq1Igbb7yR/fv31+ahXBAJCQnYbDamTJni3GbF/jhw4AAjR44kMDAQHx8funfvTlpamvN1K/VJWVkZjz76KO3atcPb25v27dszc+ZM7Ha7s01D74/Vq1czZMgQWrRogc1m4/3336/wek0d/9GjR4mLi8Pf3x9/f3/i4uI4duzYBT666jtbf5SWlvLQQw/RpUsXGjVqRIsWLRg1ahQHDx6ssA+r9Mep/vKXv2Cz2XjxxRcrbK/V/jDEMAzDWLp0qeHu7m7Mnz/f2LZtmzF58mSjUaNGxt69e80urUZde+21xoIFC4ytW7caGRkZxuDBg43WrVsbv/32m7PN008/bfj6+horVqwwtmzZYsTGxhqhoaFGfn6+s8348eONli1bGqmpqcamTZuMgQMHGt26dTPKysrMOKwasWHDBqNt27ZG165djcmTJzu3W60/jhw5YrRp08aIj4831q9fb+zevdv47LPPjJ07dzrbWKlP/vGPfxiBgYHGxx9/bOzevdtYtmyZ0bhxY+PFF190tmno/ZGSkmJMmzbNWLFihQEY7733XoXXa+r4r7vuOiM8PNxYu3atsXbtWiM8PNy44YYbauswq+xs/XHs2DFj0KBBRlJSkvHjjz8a69atM3r37m1ERERU2IdV+uP33nvvPaNbt25GixYtjBdeeKHCa7XZHwo+/3X55Zcb48ePr7CtY8eOxsMPP2xSRbUjJyfHAIyvvvrKMAzDsNvtRkhIiPH0008725w4ccLw9/c3XnvtNcMwHP/Hdnd3N5YuXepsc+DAAcPFxcX45JNPavcAakhBQYFxySWXGKmpqcZVV13lDD5W7I+HHnrIuOKKK874utX6ZPDgwcbYsWMrbLvllluMkSNHGoZhvf449Yetpo5/27ZtBmB8++23zjbr1q0zAOPHH3+8wEd17s72Q3/Shg0bDMD5h7QV+2P//v1Gy5Ytja1btxpt2rSpEHxquz90qgsoKSkhLS2NmJiYCttjYmJYu3atSVXVjry8PAACAgIA2L17N9nZ2RX6wtPTk6uuusrZF2lpaZSWllZo06JFC8LDw+ttf02cOJHBgwczaNCgCtut2B8ffvghkZGR3HbbbQQFBdGjRw/mz5/vfN1qfXLFFVfw+eef89NPPwHw/fff8/XXX/OnP/0JsF5/nKqmjn/dunX4+/vTu3dvZ5uoqCj8/f3rfR/l5eVhs9lo0qQJYL3+sNvtxMXF8cADD9C5c+dKr9d2fzSYm5Sej9zcXMrLywkODq6wPTg4mOzsbJOquvAMw2Dq1KlcccUVhIeHAziP93R9sXfvXmcbDw8PmjZtWqlNfeyvpUuXsmnTJjZu3FjpNSv2xy+//MKcOXOYOnUqf/vb39iwYQOTJk3C09OTUaNGWa5PHnroIfLy8ujYsSOurq6Ul5fz5JNPMmLECMCa/0Z+r6aOPzs7m6CgoEr7DwoKqtd9dOLECR5++GHuuOMO501JrdYfzzzzDG5ubkyaNOm0r9d2fyj4/I7NZqvw3DCMStsaknvvvZfNmzfz9ddfV3rtXPqiPvbXvn37mDx5Mp9++ileXl5nbGeV/gDHX2eRkZE89dRTAPTo0YMffviBOXPmMGrUKGc7q/RJUlISb7/9NkuWLKFz585kZGQwZcoUWrRowejRo53trNIfZ1ITx3+69vW5j0pLS7n99tux2+3Mnj37D9s3xP5IS0vjpZdeYtOmTdWu+0L1h051Ac2aNcPV1bVSaszJyan0V0xDcd999/Hhhx/y5Zdf0qpVK+f2kJAQgLP2RUhICCUlJRw9evSMbeqLtLQ0cnJyiIiIwM3NDTc3N7766itefvll3NzcnMdjlf4ACA0N5bLLLquwrVOnTmRmZgLW+zfywAMP8PDDD3P77bfTpUsX4uLiuP/++0lISACs1x+nqqnjDwkJ4ddff620/0OHDtXLPiotLWX48OHs3r2b1NRU52gPWKs/1qxZQ05ODq1bt3Z+x+7du5f/+7//o23btkDt94eCD+Dh4UFERASpqakVtqemptK3b1+TqrowDMPg3nvvJTk5mS+++IJ27dpVeL1du3aEhIRU6IuSkhK++uorZ19ERETg7u5eoU1WVhZbt26td/11zTXXsGXLFjIyMpyPyMhI7rzzTjIyMmjfvr2l+gOgX79+lZY4+Omnn2jTpg1gvX8jRUVFuLhU/Kp0dXV1Tme3Wn+cqqaOv0+fPuTl5bFhwwZnm/Xr15OXl1fv+uhk6Pn555/57LPPCAwMrPC6lfojLi6OzZs3V/iObdGiBQ888AArV64ETOiPal0K3YCdnM7+xhtvGNu2bTOmTJliNGrUyNizZ4/ZpdWoCRMmGP7+/saqVauMrKws56OoqMjZ5umnnzb8/f2N5ORkY8uWLcaIESNOOzW1VatWxmeffWZs2rTJuPrqq+vN1Nw/8vtZXYZhvf7YsGGD4ebmZjz55JPGzz//bLzzzjuGj4+P8fbbbzvbWKlPRo8ebbRs2dI5nT05Odlo1qyZ8eCDDzrbNPT+KCgoMNLT04309HQDMP75z38a6enpzllKNXX81113ndG1a1dj3bp1xrp164wuXbrUyenbZ+uP0tJS48YbbzRatWplZGRkVPieLS4udu7DKv1xOqfO6jKM2u0PBZ/f+de//mW0adPG8PDwMHr27Omc4t2QAKd9LFiwwNnGbrcbjz/+uBESEmJ4enoaV155pbFly5YK+zl+/Lhx7733GgEBAYa3t7dxww03GJmZmbV8NBfGqcHHiv3x0UcfGeHh4Yanp6fRsWNHY968eRVet1Kf5OfnG5MnTzZat25teHl5Ge3btzemTZtW4UesoffHl19+edrvjdGjRxuGUXPHf/jwYePOO+80fH19DV9fX+POO+80jh49WktHWXVn64/du3ef8Xv2yy+/dO7DKv1xOqcLPrXZHzbDMIzqjRGJiIiI1E+6xkdEREQsQ8FHRERELEPBR0RERCxDwUdEREQsQ8FHRERELEPBR0RERCxDwUdEREQsQ8FHRERELEPBR0TqjLZt2/Liiy+aXYaINGAKPiLSoMTHxzN06FCzyxCROkrBR0RERCxDwUdEatSAAQOYNGkSDz74IAEBAYSEhDBjxgzn6zNmzKB169Z4enrSokULJk2aVOH9RUVFjB07Fl9fX1q3bs28efMqvL5lyxauvvpqvL29CQwM5O677+a3335z7vutt97igw8+wGazYbPZWLVqFSUlJdx7772Ehobi5eVF27ZtSUhIuOB9ISJ1j5vZBYhIw/PWW28xdepU1q9fz7p164iPj6dfv37k5eXxwgsvsHTpUjp37kx2djbff/99hffOmjWLJ554gr/97W8sX76cCRMmcOWVV9KxY0eKioq47rrriIqKYuPGjeTk5PDnP/+Ze++9l4ULF/LXv/6V7du3k5+fz4IFCwAICAjg5Zdf5sMPP+Tdd9+ldevW7Nu3j3379pnRNSJiMt2dXURq1IABAygvL2fNmjXObZdffjlXX301QUFBzJ07l61bt+Lu7l7pvW3btqV///4sXrwYAMMwCAkJ4e9//zvjx49n/vz5PPTQQ+zbt49GjRoBkJKSwpAhQzh48CDBwcHEx8dz7Ngx3n//fed+J02axA8//MBnn32GzWa7sB0gInWaTnWJSI3r2rVrheehoaHk5ORw2223cfz4cdq3b89dd93Fe++9R1lZ2Rnfa7PZCAkJIScnB4Dt27fTrVs3Z+gB6NevH3a7nR07dpyxnvj4eDIyMrj00kuZNGkSn376aU0cpojUQwo+IlLjTh3Nsdls2O12wsLC2LFjB//617/w9vbmnnvu4corr6S0tPQP3wuOEaAzjdicbSSnZ8+e7N69myeeeILjx48zfPhwbr311nM9PBGpxxR8RKRWeXt7c+ONN/Lyyy+zatUq1q1bx5YtW6r03ssuu4yMjAwKCwud27755htcXFzo0KEDAB4eHpSXl1d6r5+fH7GxscyfP5+kpCRWrFjBkSNHauagRKTe0MXNIlJrFi5cSHl5Ob1798bHx4fFixfj7e1NmzZtqvT+O++8k8cff5zRo0czY8YMDh06xH333UdcXBzBwcGA4zqhlStXsmPHDgIDA/H39+fVV18lNDSU7t274+LiwrJlywgJCaFJkyYX8GhFpC7SiI+I1JomTZowf/58+vXrR9euXfn888/56KOPCAwMrNL7fXx8WLlyJUeOHKFXr17ceuutXHPNNbz66qvONnfddReXXnopkZGRNG/enG+++YbGjRvzzDPPEBkZSa9evdizZw8pKSm4uOgrUMRqNKtLRERELEN/7oiIiIhlKPiIiIiIZSj4iIiIiGUo+IiIiIhlKPiIiIiIZSj4iIiIiGUo+IiIiIhlKPiIiIiIZSj4iIiIiGUo+IiIiIhlKPiIiIiIZfw/QggcyOjy9kMAAAAASUVORK5CYII=",
      "text/plain": [
       "<Figure size 640x480 with 1 Axes>"
      ]
     },
     "metadata": {},
     "output_type": "display_data"
    }
   ],
   "source": [
    "# df = pd.DataFrame([(nshots, theta, error) for nshots, (theta, error) in avail_results], columns=[\"nshots\", \"theta\", \"error\"])\n",
    "df = pd.read_pickle(\"/home/jovyan/2024_Quantinuum/challenge_resources/qpe_nshots_2.pkl\")\n",
    "df.groupby(\"nshots\").agg([\"mean\", \"std\"])[\"error\"].plot()\n",
    "# df.groupby(\"theta\").mean()[\"error\"].plot()\n",
    "# df.to_pickle(\"/home/jovyan/2024_Quantinuum/challenge_resources/qpe_nshots_2.pkl\")"
   ]
  },
  {
   "cell_type": "markdown",
   "id": "b8e0451b-07b6-435e-93b5-77177c38d752",
   "metadata": {},
   "source": [
    "### 1.5 Varying Number of Qubits"
   ]
  },
  {
   "cell_type": "code",
   "execution_count": null,
   "id": "551e716f-e142-40a4-98b7-a14fcbaa69f1",
   "metadata": {
    "scrolled": true
   },
   "outputs": [],
   "source": [
    "qpe_qubits_results = qpe_qubits_experiment(n_qubits_list, theta_list)\n",
    "qpe_qubits_results = list(qpe_qubits_results)"
   ]
  },
  {
   "cell_type": "code",
   "execution_count": 69,
   "id": "f51a4587-ae94-46fc-bf22-2023adf91357",
   "metadata": {},
   "outputs": [
    {
     "name": "stderr",
     "output_type": "stream",
     "text": [
      "100%|██████████| 40/40 [00:07<00:00,  5.46it/s]\n"
     ]
    }
   ],
   "source": [
    "avail_results = []\n",
    "for qubits, res in tqdm(qpe_qubits_results, position=0, leave=True):\n",
    "    result = get_result_theta_error(res)\n",
    "    if result != None:\n",
    "        avail_results.append((qubits, result))\n",
    "# pd.DataFrame(avail_results, columns=[\"nshots\", \"error\"]).dropna().groupby(\"nshots\").agg([\"mean\", \"std\"])"
   ]
  },
  {
   "cell_type": "code",
   "execution_count": 76,
   "id": "2a176550-7aa0-42cb-afb9-d85deb0a2962",
   "metadata": {},
   "outputs": [
    {
     "data": {
      "text/plain": [
       "<Axes: xlabel='nqubits'>"
      ]
     },
     "execution_count": 76,
     "metadata": {},
     "output_type": "execute_result"
    },
    {
     "data": {
      "image/png": "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",
      "text/plain": [
       "<Figure size 640x480 with 1 Axes>"
      ]
     },
     "metadata": {},
     "output_type": "display_data"
    }
   ],
   "source": [
    "# df = pd.DataFrame([(nqubits, theta, error) for nqubits, (theta, error) in avail_results], columns=[\"nqubits\", \"theta\", \"error\"])\n",
    "df = pd.read_pickle(\"/home/jovyan/2024_Quantinuum/challenge_resources/qpe_nqubits_2.pkl\")\n",
    "df.groupby(\"nqubits\").agg([\"mean\", \"std\"])[\"error\"].plot()\n",
    "# df.to_pickle(\"/home/jovyan/2024_Quantinuum/challenge_resources/qpe_nqubits_2.pkl\")"
   ]
  },
  {
   "cell_type": "code",
   "execution_count": null,
   "id": "43028c22-02dd-4f40-9f03-cec45685f41e",
   "metadata": {},
   "outputs": [],
   "source": []
  },
  {
   "cell_type": "code",
   "execution_count": null,
   "id": "f2b28e56-cdbe-4a2a-bdcd-710bd843028a",
   "metadata": {},
   "outputs": [],
   "source": []
  },
  {
   "cell_type": "code",
   "execution_count": null,
   "id": "e748a217-c354-4bda-b4b6-ef4893c5a377",
   "metadata": {},
   "outputs": [],
   "source": []
  },
  {
   "cell_type": "code",
   "execution_count": null,
   "id": "6201c607-7956-4656-86e6-e9e1acaab2af",
   "metadata": {},
   "outputs": [],
   "source": []
  }
 ],
 "metadata": {
  "kernelspec": {
   "display_name": "Python 3 (ipykernel)",
   "language": "python",
   "name": "python3"
  },
  "language_info": {
   "codemirror_mode": {
    "name": "ipython",
    "version": 3
   },
   "file_extension": ".py",
   "mimetype": "text/x-python",
   "name": "python",
   "nbconvert_exporter": "python",
   "pygments_lexer": "ipython3",
   "version": "3.10.10"
  }
 },
 "nbformat": 4,
 "nbformat_minor": 5
}

{
 "cells": [
  {
   "cell_type": "code",
   "execution_count": 1,
   "id": "51e38255-3387-4ded-9556-b69688e99fa2",
   "metadata": {},
   "outputs": [],
   "source": [
    "import numpy as np\n",
    "from random import random\n",
    "\n",
    "from pytket.circuit import Circuit\n",
    "from pytket.circuit.display import render_circuit_jupyter\n",
    "from pytket.circuit import QControlBox\n",
    "from pytket.circuit import CircBox\n"
   ]
  },
  {
   "cell_type": "code",
   "execution_count": 61,
   "id": "12966101-341f-44f4-ab43-ef996fb1f814",
   "metadata": {},
   "outputs": [],
   "source": [
    "# m is precision of answer\n",
    "def iter_circ(m_bits, eigenstate: Circuit, unitary: Circuit) -> Circuit:  \n",
    "    # create base of circuit to return\n",
    "    iter_circ: Circuit = Circuit(1, m_bits + 1)\n",
    "    qreg = iter_circ.get_q_register(\"q\")\n",
    "    creg = iter_circ.get_c_register(\"c\")\n",
    "    ancil = qreg[0]\n",
    "    n_state_prep_qubits = eigenstate.n_qubits\n",
    "    sreg = iter_circ.add_q_register(\"psi\", n_state_prep_qubits)\n",
    "    iter_circ.add_circuit(eigenstate, list(sreg))\n",
    "\n",
    "    # Create a controlled unitary with a single control qubit\n",
    "    unitary.name = \"U\"\n",
    "    controlled_u_gate = QControlBox(CircBox(unitary), 1)\n",
    "    \n",
    "    for j in range(m_bits, 0, -1):\n",
    "        # add hadamard to ancillary qubit\n",
    "        iter_circ.H(0)\n",
    "        # add unitaries\n",
    "        for _ in range(2 ** (j - 1)):\n",
    "            iter_circ.add_qcontrolbox(controlled_u_gate, [ancil] + list(sreg))\n",
    "\n",
    "        # add rotations\n",
    "        for expn in range(m_bits + 1 - j, 1, -1):\n",
    "            phase = - 2 * np.pi / (2 ** expn)\n",
    "            # this is the problematic line, I believe\n",
    "            iter_circ.U1(phase, 0, condition = creg[expn + j - 1])\n",
    "            print(expn, expn + j - 1)\n",
    "        \n",
    "        iter_circ.H(0)\n",
    "        iter_circ.Measure(ancil, creg[j])\n",
    "        iter_circ.Reset(0)\n",
    "        iter_circ.X(0)\n",
    "\n",
    "    # dummy just in case\n",
    "    iter_circ.Measure(ancil, creg[0])\n",
    "    # Add the initial state\n",
    "    return iter_circ\n",
    "    # # Create the unitary:\n",
    "    # unitary.name = \"U\"\n",
    "    # cu_gate = QControlBox(CircBox(unitary), 1)\n",
    "    # render_circuit_jupyter(iter_circ)\n",
    "    # pass"
   ]
  },
  {
   "cell_type": "markdown",
   "id": "9ec8262c-d498-47ea-b52c-9d3763866334",
   "metadata": {},
   "source": [
    "## Call the function, run experiments and stuff"
   ]
  },
  {
   "cell_type": "code",
   "execution_count": 62,
   "id": "a500a460-9d38-414b-9cc2-a9d59479aa25",
   "metadata": {},
   "outputs": [
    {
     "name": "stdout",
     "output_type": "stream",
     "text": [
      "2 2\n"
     ]
    },
    {
     "data": {
      "text/html": [
       "\n",
       "\n",
       "\n",
       "\n",
       "\n",
       "\n",
       "<div style=\"resize: vertical; overflow: auto; height: 400px; display: block\">\n",
       "    <iframe srcdoc=\"\n",
       "&lt;!DOCTYPE html&gt;\n",
       "&lt;html lang=&#34;en&#34;&gt;\n",
       "&lt;head&gt;\n",
       "    &lt;meta charset=&#34;UTF-8&#34;&gt;\n",
       "    &lt;!-- Download Vue 3--&gt;\n",
       "&lt;script type=&#34;application/javascript&#34; src=&#34;https://cdn.jsdelivr.net/npm/vue@3&#34;&gt;&lt;/script&gt;\n",
       "&lt;!-- Download Circuit Renderer with styles --&gt;\n",
       "&lt;script type=&#34;application/javascript&#34; src=&#34;https://unpkg.com/pytket-circuit-renderer@0.7/dist/pytket-circuit-renderer.umd.js&#34;&gt;&lt;/script&gt;\n",
       "&lt;link rel=&#34;stylesheet&#34; href=&#34;https://unpkg.com/pytket-circuit-renderer@0.7/dist/pytket-circuit-renderer.css&#34;&gt;\n",
       "&lt;/head&gt;\n",
       "&lt;body&gt;\n",
       "\n",
       "\n",
       "\n",
       "    &lt;div id=&#34;circuit-display-vue-container-2c0e768f-fe28-41ae-a972-926ce2c187d7&#34; class=&#34;pytket-circuit-display-container&#34;&gt;\n",
       "        &lt;div style=&#34;display: none&#34;&gt;\n",
       "            &lt;div id=&#34;circuit-json-to-display&#34;&gt;{&#34;bits&#34;: [[&#34;c&#34;, [0]], [&#34;c&#34;, [1]], [&#34;c&#34;, [2]]], &#34;commands&#34;: [{&#34;args&#34;: [[&#34;psi&#34;, [0]]], &#34;op&#34;: {&#34;type&#34;: &#34;X&#34;}}, {&#34;args&#34;: [[&#34;q&#34;, [0]]], &#34;op&#34;: {&#34;type&#34;: &#34;H&#34;}}, {&#34;args&#34;: [[&#34;q&#34;, [0]], [&#34;psi&#34;, [0]]], &#34;op&#34;: {&#34;box&#34;: {&#34;control_state&#34;: 1, &#34;id&#34;: &#34;52602296-c7c2-4353-88a5-71185f5b5d0b&#34;, &#34;n_controls&#34;: 1, &#34;op&#34;: {&#34;box&#34;: {&#34;circuit&#34;: {&#34;bits&#34;: [], &#34;commands&#34;: [{&#34;args&#34;: [[&#34;q&#34;, [0]]], &#34;op&#34;: {&#34;params&#34;: [&#34;0.73&#34;], &#34;type&#34;: &#34;U1&#34;}}], &#34;created_qubits&#34;: [], &#34;discarded_qubits&#34;: [], &#34;implicit_permutation&#34;: [[[&#34;q&#34;, [0]], [&#34;q&#34;, [0]]]], &#34;name&#34;: &#34;U&#34;, &#34;phase&#34;: &#34;0.0&#34;, &#34;qubits&#34;: [[&#34;q&#34;, [0]]]}, &#34;id&#34;: &#34;fbbd58de-6efe-4bf4-b2b7-695445c20cb4&#34;, &#34;type&#34;: &#34;CircBox&#34;}, &#34;type&#34;: &#34;CircBox&#34;}, &#34;type&#34;: &#34;QControlBox&#34;}, &#34;type&#34;: &#34;QControlBox&#34;}}, {&#34;args&#34;: [[&#34;q&#34;, [0]], [&#34;psi&#34;, [0]]], &#34;op&#34;: {&#34;box&#34;: {&#34;control_state&#34;: 1, &#34;id&#34;: &#34;52602296-c7c2-4353-88a5-71185f5b5d0b&#34;, &#34;n_controls&#34;: 1, &#34;op&#34;: {&#34;box&#34;: {&#34;circuit&#34;: {&#34;bits&#34;: [], &#34;commands&#34;: [{&#34;args&#34;: [[&#34;q&#34;, [0]]], &#34;op&#34;: {&#34;params&#34;: [&#34;0.73&#34;], &#34;type&#34;: &#34;U1&#34;}}], &#34;created_qubits&#34;: [], &#34;discarded_qubits&#34;: [], &#34;implicit_permutation&#34;: [[[&#34;q&#34;, [0]], [&#34;q&#34;, [0]]]], &#34;name&#34;: &#34;U&#34;, &#34;phase&#34;: &#34;0.0&#34;, &#34;qubits&#34;: [[&#34;q&#34;, [0]]]}, &#34;id&#34;: &#34;fbbd58de-6efe-4bf4-b2b7-695445c20cb4&#34;, &#34;type&#34;: &#34;CircBox&#34;}, &#34;type&#34;: &#34;CircBox&#34;}, &#34;type&#34;: &#34;QControlBox&#34;}, &#34;type&#34;: &#34;QControlBox&#34;}}, {&#34;args&#34;: [[&#34;q&#34;, [0]]], &#34;op&#34;: {&#34;type&#34;: &#34;H&#34;}}, {&#34;args&#34;: [[&#34;q&#34;, [0]], [&#34;c&#34;, [2]]], &#34;op&#34;: {&#34;type&#34;: &#34;Measure&#34;}}, {&#34;args&#34;: [[&#34;q&#34;, [0]]], &#34;op&#34;: {&#34;type&#34;: &#34;Reset&#34;}}, {&#34;args&#34;: [[&#34;q&#34;, [0]]], &#34;op&#34;: {&#34;type&#34;: &#34;X&#34;}}, {&#34;args&#34;: [[&#34;q&#34;, [0]]], &#34;op&#34;: {&#34;type&#34;: &#34;H&#34;}}, {&#34;args&#34;: [[&#34;q&#34;, [0]], [&#34;psi&#34;, [0]]], &#34;op&#34;: {&#34;box&#34;: {&#34;control_state&#34;: 1, &#34;id&#34;: &#34;52602296-c7c2-4353-88a5-71185f5b5d0b&#34;, &#34;n_controls&#34;: 1, &#34;op&#34;: {&#34;box&#34;: {&#34;circuit&#34;: {&#34;bits&#34;: [], &#34;commands&#34;: [{&#34;args&#34;: [[&#34;q&#34;, [0]]], &#34;op&#34;: {&#34;params&#34;: [&#34;0.73&#34;], &#34;type&#34;: &#34;U1&#34;}}], &#34;created_qubits&#34;: [], &#34;discarded_qubits&#34;: [], &#34;implicit_permutation&#34;: [[[&#34;q&#34;, [0]], [&#34;q&#34;, [0]]]], &#34;name&#34;: &#34;U&#34;, &#34;phase&#34;: &#34;0.0&#34;, &#34;qubits&#34;: [[&#34;q&#34;, [0]]]}, &#34;id&#34;: &#34;fbbd58de-6efe-4bf4-b2b7-695445c20cb4&#34;, &#34;type&#34;: &#34;CircBox&#34;}, &#34;type&#34;: &#34;CircBox&#34;}, &#34;type&#34;: &#34;QControlBox&#34;}, &#34;type&#34;: &#34;QControlBox&#34;}}, {&#34;args&#34;: [[&#34;c&#34;, [2]], [&#34;q&#34;, [0]]], &#34;op&#34;: {&#34;conditional&#34;: {&#34;op&#34;: {&#34;params&#34;: [&#34;-1.5707963267949&#34;], &#34;type&#34;: &#34;U1&#34;}, &#34;value&#34;: 1, &#34;width&#34;: 1}, &#34;type&#34;: &#34;Conditional&#34;}}, {&#34;args&#34;: [[&#34;q&#34;, [0]]], &#34;op&#34;: {&#34;type&#34;: &#34;H&#34;}}, {&#34;args&#34;: [[&#34;q&#34;, [0]], [&#34;c&#34;, [1]]], &#34;op&#34;: {&#34;type&#34;: &#34;Measure&#34;}}, {&#34;args&#34;: [[&#34;q&#34;, [0]]], &#34;op&#34;: {&#34;type&#34;: &#34;Reset&#34;}}, {&#34;args&#34;: [[&#34;q&#34;, [0]]], &#34;op&#34;: {&#34;type&#34;: &#34;X&#34;}}, {&#34;args&#34;: [[&#34;q&#34;, [0]], [&#34;c&#34;, [0]]], &#34;op&#34;: {&#34;type&#34;: &#34;Measure&#34;}}], &#34;created_qubits&#34;: [], &#34;discarded_qubits&#34;: [], &#34;implicit_permutation&#34;: [[[&#34;psi&#34;, [0]], [&#34;psi&#34;, [0]]], [[&#34;q&#34;, [0]], [&#34;q&#34;, [0]]]], &#34;phase&#34;: &#34;0.0&#34;, &#34;qubits&#34;: [[&#34;psi&#34;, [0]], [&#34;q&#34;, [0]]]}&lt;/div&gt;\n",
       "        &lt;/div&gt;\n",
       "        &lt;circuit-display-container\n",
       "                :circuit-element-str=&#34;&#39;#circuit-json-to-display&#39;&#34;\n",
       "                :init-render-options=&#34;initRenderOptions&#34;\n",
       "        &gt;&lt;/circuit-display-container&gt;\n",
       "    &lt;/div&gt;\n",
       "    &lt;script type=&#34;application/javascript&#34;&gt;\n",
       "      const circuitRendererUid = &#34;2c0e768f-fe28-41ae-a972-926ce2c187d7&#34;;\n",
       "      const displayOptions = JSON.parse(&#39;{}&#39;);\n",
       "\n",
       "      // Script to initialise the circuit renderer app\n",
       "\n",
       "const { createApp } = Vue;\n",
       "const circuitDisplayContainer = window[&#34;pytket-circuit-renderer&#34;].default;\n",
       "// Init variables to be shared between circuit display instances\n",
       "if (typeof window.pytketCircuitDisplays === &#34;undefined&#34;) {\n",
       "    window.pytketCircuitDisplays = {};\n",
       "}\n",
       "// Create the root Vue component\n",
       "const app = createApp({\n",
       "    delimiters: [&#39;[[#&#39;, &#39;#]]&#39;],\n",
       "    components: { circuitDisplayContainer },\n",
       "    data () {\n",
       "      return {\n",
       "        initRenderOptions: displayOptions,\n",
       "      }\n",
       "    }\n",
       "})\n",
       "app.config.unwrapInjectedRef = true;\n",
       "app.mount(&#34;#circuit-display-vue-container-&#34;+circuitRendererUid);\n",
       "window.pytketCircuitDisplays[circuitRendererUid] = app;\n",
       "    &lt;/script&gt;\n",
       "\n",
       "\n",
       "\n",
       "&lt;/body&gt;\n",
       "&lt;/html&gt;\n",
       "\"\n",
       "            width=\"100%\" height=\"100%\"\n",
       "            style=\"border: none; outline: none; overflow: auto\"></iframe>\n",
       "</div>\n",
       "\n"
      ],
      "text/plain": [
       "<IPython.core.display.HTML object>"
      ]
     },
     "metadata": {},
     "output_type": "display_data"
    }
   ],
   "source": [
    "#input_angle = 0.5 \n",
    "# From 0 to 1\n",
    "input_angle = 0.73\n",
    "initial_state = Circuit(1).X(0) #Make sure to just add quantum channels here\n",
    "unitary = Circuit(1).U1(input_angle, 0)\n",
    "circuit_iter_to_render = iter_circ(2, \n",
    "    eigenstate=initial_state, unitary=unitary\n",
    ")\n",
    "\n",
    "render_circuit_jupyter(circuit_iter_to_render)"
   ]
  },
  {
   "cell_type": "code",
   "execution_count": 11,
   "id": "fe68c1f2-d31b-4d9b-8cb6-3774d1f443cc",
   "metadata": {},
   "outputs": [],
   "source": [
    "import pytket.backends"
   ]
  },
  {
   "cell_type": "code",
   "execution_count": 4,
   "id": "e18d59ac-b06a-4d64-a030-07fc905aabba",
   "metadata": {
    "scrolled": true
   },
   "outputs": [],
   "source": [
    "from pytket.extensions.nexus import NexusBackend, QuantinuumConfig, Nexus\n",
    "from datetime import datetime"
   ]
  },
  {
   "cell_type": "code",
   "execution_count": 56,
   "id": "9f4390a5-243f-4e83-8681-3d5562d9a555",
   "metadata": {},
   "outputs": [
    {
     "name": "stdout",
     "output_type": "stream",
     "text": [
      "\n",
      "New project created: IPE_test8 - 2024-02-04 07:32:51.127823\n",
      "\n",
      "Started using project with name: IPE_test8 - 2024-02-04 07:32:51.127823\n"
     ]
    }
   ],
   "source": [
    "phase_est_project = Nexus().new_project(f\"IPE_test8 - {datetime.now()}\")\n",
    "\n",
    "configuration = QuantinuumConfig(device_name=\"H1-1LE\", user_group=\"iQuHACK_2024\")\n",
    "backend = NexusBackend(\n",
    "    backend_config= configuration, \n",
    "    project= phase_est_project\n",
    ")"
   ]
  },
  {
   "cell_type": "code",
   "execution_count": 57,
   "id": "109ed43f-f801-443b-8499-df12df40a450",
   "metadata": {},
   "outputs": [
    {
     "data": {
      "text/plain": [
       "True"
      ]
     },
     "execution_count": 57,
     "metadata": {},
     "output_type": "execute_result"
    }
   ],
   "source": [
    "# PATCH \n",
    "# decompose any Boxes in the circuit (acts in place on the circuit object)\n",
    "from pytket.passes import DecomposeBoxes\n",
    "\n",
    "DecomposeBoxes().apply(circuit_iter_to_render)"
   ]
  },
  {
   "cell_type": "code",
   "execution_count": 58,
   "id": "aac21311-3a98-41ee-bb14-a9005a5fde06",
   "metadata": {
    "scrolled": true
   },
   "outputs": [
    {
     "ename": "RuntimeError",
     "evalue": "compile-job-adnexed-dusky-manliness-procera: Circuit has encountered an error during compilation.\nCompileJobItem 0: <class 'grpclib.exceptions.GRPCError'>: (<Status.INTERNAL: 13>, 'unknown variant `Phase`, expected one of `Input`, `Output`, `Create`, `Discard`, `ClInput`, `ClOutput`, `Barrier`, `Label`, `Branch`, `Goto`, `Stop`, `ClassicalTransform`, `SetBits`, `CopyBits`, `RangePredicate`, `ExplicitPredicate`, `ExplicitModifier`, `MultiBit`, `Z`, `X`, `Y`, `S`, `Sdg`, `T`, `Tdg`, `V`, `Vdg`, `SX`, `SXdg`, `H`, `Rx`, `Ry`, `Rz`, `U3`, `U2`, `U1`, `TK1`, `TK2`, `CX`, `CY`, `CZ`, `CH`, `CV`, `CVdg`, `CSX`, `CSXdg`, `CRz`, `CRx`, `CRy`, `CU1`, `CU3`, `PhaseGadget`, `CCX`, `SWAP`, `CSWAP`, `BRIDGE`, `noop`, `Measure`, `Collapse`, `Reset`, `ECR`, `ISWAP`, `PhasedX`, `NPhasedX`, `ZZMax`, `XXPhase`, `YYPhase`, `ZZPhase`, `XXPhase3`, `ESWAP`, `FSim`, `Sycamore`, `ISWAPMax`, `PhasedISWAP`, `CnRy`, `CnX`, `CircBox`, `Unitary1qBox`, `Unitary2qBox`, `Unitary3qBox`, `ExpBox`, `PauliExpBox`, `CliffBox`, `CustomGate`, `PhasePolyBox`, `QControlBox`, `ClassicalExpBox`, `Conditional`, `ProjectorAssertionBox`, `StabiliserAssertionBox`, `UnitaryTableauBox` at line 1 column 623', None)",
     "output_type": "error",
     "traceback": [
      "\u001b[0;31m---------------------------------------------------------------------------\u001b[0m",
      "\u001b[0;31mRuntimeError\u001b[0m                              Traceback (most recent call last)",
      "Cell \u001b[0;32mIn[58], line 1\u001b[0m\n\u001b[0;32m----> 1\u001b[0m compiled_circ \u001b[38;5;241m=\u001b[39m \u001b[43mbackend\u001b[49m\u001b[38;5;241;43m.\u001b[39;49m\u001b[43mget_compiled_circuit\u001b[49m\u001b[43m(\u001b[49m\u001b[43mcircuit_iter_to_render\u001b[49m\u001b[43m)\u001b[49m\n",
      "File \u001b[0;32m/opt/conda/lib/python3.10/site-packages/pytket/extensions/nexus/backends.py:301\u001b[0m, in \u001b[0;36mNexusBackend.get_compiled_circuit\u001b[0;34m(self, circuit, optimisation_level, notes, remote, timeout)\u001b[0m\n\u001b[1;32m    271\u001b[0m \u001b[38;5;28;01mdef\u001b[39;00m \u001b[38;5;21mget_compiled_circuit\u001b[39m(\n\u001b[1;32m    272\u001b[0m     \u001b[38;5;28mself\u001b[39m,\n\u001b[1;32m    273\u001b[0m     circuit: Circuit,\n\u001b[0;32m   (...)\u001b[0m\n\u001b[1;32m    277\u001b[0m     timeout: Optional[\u001b[38;5;28mfloat\u001b[39m] \u001b[38;5;241m=\u001b[39m \u001b[38;5;241m300\u001b[39m,\n\u001b[1;32m    278\u001b[0m ) \u001b[38;5;241m-\u001b[39m\u001b[38;5;241m>\u001b[39m Circuit:\n\u001b[1;32m    279\u001b[0m \u001b[38;5;250m    \u001b[39m\u001b[38;5;124;03m\"\"\"Return a single circuit compiled with default_compilation_pass (does not\u001b[39;00m\n\u001b[1;32m    280\u001b[0m \u001b[38;5;124;03m    act in place). See :py:meth:`Backend.get_compiled_circuits`.\u001b[39;00m\n\u001b[1;32m    281\u001b[0m \n\u001b[0;32m   (...)\u001b[0m\n\u001b[1;32m    299\u001b[0m \u001b[38;5;124;03m    :return: returns the compiled circuit\u001b[39;00m\n\u001b[1;32m    300\u001b[0m \u001b[38;5;124;03m    \"\"\"\u001b[39;00m\n\u001b[0;32m--> 301\u001b[0m     circuit_list \u001b[38;5;241m=\u001b[39m \u001b[38;5;28;43mself\u001b[39;49m\u001b[38;5;241;43m.\u001b[39;49m\u001b[43mget_compiled_circuits\u001b[49m\u001b[43m(\u001b[49m\n\u001b[1;32m    302\u001b[0m \u001b[43m        \u001b[49m\u001b[43m[\u001b[49m\u001b[43mcircuit\u001b[49m\u001b[43m]\u001b[49m\u001b[43m,\u001b[49m\n\u001b[1;32m    303\u001b[0m \u001b[43m        \u001b[49m\u001b[43moptimisation_level\u001b[49m\u001b[43m,\u001b[49m\n\u001b[1;32m    304\u001b[0m \u001b[43m        \u001b[49m\u001b[43mnotes\u001b[49m\u001b[43m,\u001b[49m\n\u001b[1;32m    305\u001b[0m \u001b[43m        \u001b[49m\u001b[43mremote\u001b[49m\u001b[43m,\u001b[49m\n\u001b[1;32m    306\u001b[0m \u001b[43m        \u001b[49m\u001b[43mtimeout\u001b[49m\u001b[43m,\u001b[49m\n\u001b[1;32m    307\u001b[0m \u001b[43m    \u001b[49m\u001b[43m)\u001b[49m\n\u001b[1;32m    308\u001b[0m     \u001b[38;5;28;01mreturn\u001b[39;00m circuit_list[\u001b[38;5;241m0\u001b[39m]\n",
      "File \u001b[0;32m/opt/conda/lib/python3.10/site-packages/pytket/extensions/nexus/backends.py:382\u001b[0m, in \u001b[0;36mNexusBackend.get_compiled_circuits\u001b[0;34m(self, circuits, optimisation_level, notes, remote, timeout)\u001b[0m\n\u001b[1;32m    379\u001b[0m     handler\u001b[38;5;241m.\u001b[39msubmit_compilation()\n\u001b[1;32m    381\u001b[0m \u001b[38;5;28;01melse\u001b[39;00m:\n\u001b[0;32m--> 382\u001b[0m     circuits_to_return \u001b[38;5;241m=\u001b[39m \u001b[38;5;28;43mself\u001b[39;49m\u001b[38;5;241;43m.\u001b[39;49m\u001b[43m_compile_circuits_remotely\u001b[49m\u001b[43m(\u001b[49m\n\u001b[1;32m    383\u001b[0m \u001b[43m        \u001b[49m\u001b[43mcircuits\u001b[49m\u001b[43m,\u001b[49m\u001b[43m \u001b[49m\u001b[43moptimisation_level\u001b[49m\u001b[43m,\u001b[49m\u001b[43m \u001b[49m\u001b[43mnotes\u001b[49m\u001b[43m,\u001b[49m\u001b[43m \u001b[49m\u001b[43mtimeout\u001b[49m\n\u001b[1;32m    384\u001b[0m \u001b[43m    \u001b[49m\u001b[43m)\u001b[49m\n\u001b[1;32m    386\u001b[0m \u001b[38;5;28;01mreturn\u001b[39;00m circuits_to_return\n",
      "File \u001b[0;32m/opt/conda/lib/python3.10/site-packages/pytket/extensions/nexus/backends.py:428\u001b[0m, in \u001b[0;36mNexusBackend._compile_circuits_remotely\u001b[0;34m(self, circuits, optimisation_level, notes, timeout)\u001b[0m\n\u001b[1;32m    424\u001b[0m             \u001b[38;5;28;01mif\u001b[39;00m item\u001b[38;5;241m.\u001b[39mstatus\u001b[38;5;241m.\u001b[39merror_detail:\n\u001b[1;32m    425\u001b[0m                 error_detail \u001b[38;5;241m+\u001b[39m\u001b[38;5;241m=\u001b[39m (\n\u001b[1;32m    426\u001b[0m                     \u001b[38;5;124mf\u001b[39m\u001b[38;5;124m\"\u001b[39m\u001b[38;5;130;01m\\n\u001b[39;00m\u001b[38;5;124mCompileJobItem \u001b[39m\u001b[38;5;132;01m{\u001b[39;00midx\u001b[38;5;132;01m}\u001b[39;00m\u001b[38;5;124m: \u001b[39m\u001b[38;5;132;01m{\u001b[39;00mitem\u001b[38;5;241m.\u001b[39mstatus\u001b[38;5;241m.\u001b[39merror_detail\u001b[38;5;132;01m}\u001b[39;00m\u001b[38;5;124m\"\u001b[39m\n\u001b[1;32m    427\u001b[0m                 )\n\u001b[0;32m--> 428\u001b[0m         \u001b[38;5;28;01mraise\u001b[39;00m \u001b[38;5;167;01mRuntimeError\u001b[39;00m(\u001b[38;5;124mf\u001b[39m\u001b[38;5;124m\"\u001b[39m\u001b[38;5;132;01m{\u001b[39;00mcompile_job\u001b[38;5;241m.\u001b[39mname\u001b[38;5;132;01m}\u001b[39;00m\u001b[38;5;124m: \u001b[39m\u001b[38;5;132;01m{\u001b[39;00merror_detail\u001b[38;5;132;01m}\u001b[39;00m\u001b[38;5;124m\"\u001b[39m)\n\u001b[1;32m    429\u001b[0m     \u001b[38;5;28;01mbreak\u001b[39;00m\n\u001b[1;32m    430\u001b[0m \u001b[38;5;28;01mexcept\u001b[39;00m ResourceCreationFailed \u001b[38;5;28;01mas\u001b[39;00m exc:\n",
      "\u001b[0;31mRuntimeError\u001b[0m: compile-job-adnexed-dusky-manliness-procera: Circuit has encountered an error during compilation.\nCompileJobItem 0: <class 'grpclib.exceptions.GRPCError'>: (<Status.INTERNAL: 13>, 'unknown variant `Phase`, expected one of `Input`, `Output`, `Create`, `Discard`, `ClInput`, `ClOutput`, `Barrier`, `Label`, `Branch`, `Goto`, `Stop`, `ClassicalTransform`, `SetBits`, `CopyBits`, `RangePredicate`, `ExplicitPredicate`, `ExplicitModifier`, `MultiBit`, `Z`, `X`, `Y`, `S`, `Sdg`, `T`, `Tdg`, `V`, `Vdg`, `SX`, `SXdg`, `H`, `Rx`, `Ry`, `Rz`, `U3`, `U2`, `U1`, `TK1`, `TK2`, `CX`, `CY`, `CZ`, `CH`, `CV`, `CVdg`, `CSX`, `CSXdg`, `CRz`, `CRx`, `CRy`, `CU1`, `CU3`, `PhaseGadget`, `CCX`, `SWAP`, `CSWAP`, `BRIDGE`, `noop`, `Measure`, `Collapse`, `Reset`, `ECR`, `ISWAP`, `PhasedX`, `NPhasedX`, `ZZMax`, `XXPhase`, `YYPhase`, `ZZPhase`, `XXPhase3`, `ESWAP`, `FSim`, `Sycamore`, `ISWAPMax`, `PhasedISWAP`, `CnRy`, `CnX`, `CircBox`, `Unitary1qBox`, `Unitary2qBox`, `Unitary3qBox`, `ExpBox`, `PauliExpBox`, `CliffBox`, `CustomGate`, `PhasePolyBox`, `QControlBox`, `ClassicalExpBox`, `Conditional`, `ProjectorAssertionBox`, `StabiliserAssertionBox`, `UnitaryTableauBox` at line 1 column 623', None)"
     ]
    }
   ],
   "source": [
    "compiled_circ = backend.get_compiled_circuit(circuit_iter_to_render)"
   ]
  },
  {
   "cell_type": "code",
   "execution_count": null,
   "id": "ce98d306-72b1-4c76-abec-5480dcd2b841",
   "metadata": {},
   "outputs": [],
   "source": []
  }
 ],
 "metadata": {
  "kernelspec": {
   "display_name": "Python 3 (ipykernel)",
   "language": "python",
   "name": "python3"
  },
  "language_info": {
   "codemirror_mode": {
    "name": "ipython",
    "version": 3
   },
   "file_extension": ".py",
   "mimetype": "text/x-python",
   "name": "python",
   "nbconvert_exporter": "python",
   "pygments_lexer": "ipython3",
   "version": "3.10.10"
  }
 },
 "nbformat": 4,
 "nbformat_minor": 5
}
